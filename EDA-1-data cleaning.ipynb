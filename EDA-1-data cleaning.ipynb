{
 "cells": [
  {
   "cell_type": "markdown",
   "metadata": {},
   "source": [
    "# ДИПЛОМНЫЙ ПРОЕКТ \"Модель прогнозирования стоимости жилья для агенства недвижимости\""
   ]
  },
  {
   "cell_type": "markdown",
   "metadata": {},
   "source": [
    "<span style=color:green>Задача</span> - разработать модель, которая позволила бы агенству недвижимости обойти конкурентов по скорости и качеству сделок"
   ]
  },
  {
   "cell_type": "markdown",
   "metadata": {},
   "source": [
    "## 1. ПОДГРУЗКА ДАННЫХ И НЕОБХОДИМЫХ БИБЛИОТЕК"
   ]
  },
  {
   "cell_type": "code",
   "execution_count": 151,
   "metadata": {},
   "outputs": [],
   "source": [
    "import numpy as np\n",
    "import pandas as pd\n",
    "import re\n",
    "from geopy.geocoders import Nominatim\n",
    "from fake_useragent import UserAgent\n",
    "from geopy.exc import GeocoderTimedOut, GeocoderUnavailable\n",
    "from geopy.exc import GeocoderServiceError"
   ]
  },
  {
   "cell_type": "code",
   "execution_count": 152,
   "metadata": {},
   "outputs": [],
   "source": [
    "df = pd.read_csv('data/data.csv/data.csv')"
   ]
  },
  {
   "cell_type": "markdown",
   "metadata": {},
   "source": [
    "## 2. ЗНАКОМСТВО С ДАННЫМИ"
   ]
  },
  {
   "cell_type": "code",
   "execution_count": 153,
   "metadata": {},
   "outputs": [
    {
     "data": {
      "text/html": [
       "<div>\n",
       "<style scoped>\n",
       "    .dataframe tbody tr th:only-of-type {\n",
       "        vertical-align: middle;\n",
       "    }\n",
       "\n",
       "    .dataframe tbody tr th {\n",
       "        vertical-align: top;\n",
       "    }\n",
       "\n",
       "    .dataframe thead th {\n",
       "        text-align: right;\n",
       "    }\n",
       "</style>\n",
       "<table border=\"1\" class=\"dataframe\">\n",
       "  <thead>\n",
       "    <tr style=\"text-align: right;\">\n",
       "      <th></th>\n",
       "      <th>status</th>\n",
       "      <th>private pool</th>\n",
       "      <th>propertyType</th>\n",
       "      <th>street</th>\n",
       "      <th>baths</th>\n",
       "      <th>homeFacts</th>\n",
       "      <th>fireplace</th>\n",
       "      <th>city</th>\n",
       "      <th>schools</th>\n",
       "      <th>sqft</th>\n",
       "      <th>zipcode</th>\n",
       "      <th>beds</th>\n",
       "      <th>state</th>\n",
       "      <th>stories</th>\n",
       "      <th>mls-id</th>\n",
       "      <th>PrivatePool</th>\n",
       "      <th>MlsId</th>\n",
       "      <th>target</th>\n",
       "    </tr>\n",
       "  </thead>\n",
       "  <tbody>\n",
       "    <tr>\n",
       "      <th>0</th>\n",
       "      <td>Active</td>\n",
       "      <td>NaN</td>\n",
       "      <td>Single Family Home</td>\n",
       "      <td>240 Heather Ln</td>\n",
       "      <td>3.5</td>\n",
       "      <td>{'atAGlanceFacts': [{'factValue': '2019', 'fac...</td>\n",
       "      <td>Gas Logs</td>\n",
       "      <td>Southern Pines</td>\n",
       "      <td>[{'rating': ['4', '4', '7', 'NR', '4', '7', 'N...</td>\n",
       "      <td>2900</td>\n",
       "      <td>28387</td>\n",
       "      <td>4</td>\n",
       "      <td>NC</td>\n",
       "      <td>NaN</td>\n",
       "      <td>NaN</td>\n",
       "      <td>NaN</td>\n",
       "      <td>611019</td>\n",
       "      <td>$418,000</td>\n",
       "    </tr>\n",
       "    <tr>\n",
       "      <th>1</th>\n",
       "      <td>for sale</td>\n",
       "      <td>NaN</td>\n",
       "      <td>single-family home</td>\n",
       "      <td>12911 E Heroy Ave</td>\n",
       "      <td>3 Baths</td>\n",
       "      <td>{'atAGlanceFacts': [{'factValue': '2019', 'fac...</td>\n",
       "      <td>NaN</td>\n",
       "      <td>Spokane Valley</td>\n",
       "      <td>[{'rating': ['4/10', 'None/10', '4/10'], 'data...</td>\n",
       "      <td>1,947 sqft</td>\n",
       "      <td>99216</td>\n",
       "      <td>3 Beds</td>\n",
       "      <td>WA</td>\n",
       "      <td>2.0</td>\n",
       "      <td>NaN</td>\n",
       "      <td>NaN</td>\n",
       "      <td>201916904</td>\n",
       "      <td>$310,000</td>\n",
       "    </tr>\n",
       "    <tr>\n",
       "      <th>2</th>\n",
       "      <td>for sale</td>\n",
       "      <td>NaN</td>\n",
       "      <td>single-family home</td>\n",
       "      <td>2005 Westridge Rd</td>\n",
       "      <td>2 Baths</td>\n",
       "      <td>{'atAGlanceFacts': [{'factValue': '1961', 'fac...</td>\n",
       "      <td>yes</td>\n",
       "      <td>Los Angeles</td>\n",
       "      <td>[{'rating': ['8/10', '4/10', '8/10'], 'data': ...</td>\n",
       "      <td>3,000 sqft</td>\n",
       "      <td>90049</td>\n",
       "      <td>3 Beds</td>\n",
       "      <td>CA</td>\n",
       "      <td>1.0</td>\n",
       "      <td>NaN</td>\n",
       "      <td>yes</td>\n",
       "      <td>FR19221027</td>\n",
       "      <td>$2,895,000</td>\n",
       "    </tr>\n",
       "    <tr>\n",
       "      <th>3</th>\n",
       "      <td>for sale</td>\n",
       "      <td>NaN</td>\n",
       "      <td>single-family home</td>\n",
       "      <td>4311 Livingston Ave</td>\n",
       "      <td>8 Baths</td>\n",
       "      <td>{'atAGlanceFacts': [{'factValue': '2006', 'fac...</td>\n",
       "      <td>yes</td>\n",
       "      <td>Dallas</td>\n",
       "      <td>[{'rating': ['9/10', '9/10', '10/10', '9/10'],...</td>\n",
       "      <td>6,457 sqft</td>\n",
       "      <td>75205</td>\n",
       "      <td>5 Beds</td>\n",
       "      <td>TX</td>\n",
       "      <td>3.0</td>\n",
       "      <td>NaN</td>\n",
       "      <td>NaN</td>\n",
       "      <td>14191809</td>\n",
       "      <td>$2,395,000</td>\n",
       "    </tr>\n",
       "    <tr>\n",
       "      <th>4</th>\n",
       "      <td>for sale</td>\n",
       "      <td>NaN</td>\n",
       "      <td>lot/land</td>\n",
       "      <td>1524 Kiscoe St</td>\n",
       "      <td>NaN</td>\n",
       "      <td>{'atAGlanceFacts': [{'factValue': '', 'factLab...</td>\n",
       "      <td>NaN</td>\n",
       "      <td>Palm Bay</td>\n",
       "      <td>[{'rating': ['4/10', '5/10', '5/10'], 'data': ...</td>\n",
       "      <td>NaN</td>\n",
       "      <td>32908</td>\n",
       "      <td>NaN</td>\n",
       "      <td>FL</td>\n",
       "      <td>NaN</td>\n",
       "      <td>NaN</td>\n",
       "      <td>NaN</td>\n",
       "      <td>861745</td>\n",
       "      <td>$5,000</td>\n",
       "    </tr>\n",
       "  </tbody>\n",
       "</table>\n",
       "</div>"
      ],
      "text/plain": [
       "     status private pool        propertyType               street    baths  \\\n",
       "0    Active          NaN  Single Family Home       240 Heather Ln      3.5   \n",
       "1  for sale          NaN  single-family home    12911 E Heroy Ave  3 Baths   \n",
       "2  for sale          NaN  single-family home    2005 Westridge Rd  2 Baths   \n",
       "3  for sale          NaN  single-family home  4311 Livingston Ave  8 Baths   \n",
       "4  for sale          NaN            lot/land       1524 Kiscoe St      NaN   \n",
       "\n",
       "                                           homeFacts fireplace  \\\n",
       "0  {'atAGlanceFacts': [{'factValue': '2019', 'fac...  Gas Logs   \n",
       "1  {'atAGlanceFacts': [{'factValue': '2019', 'fac...       NaN   \n",
       "2  {'atAGlanceFacts': [{'factValue': '1961', 'fac...       yes   \n",
       "3  {'atAGlanceFacts': [{'factValue': '2006', 'fac...       yes   \n",
       "4  {'atAGlanceFacts': [{'factValue': '', 'factLab...       NaN   \n",
       "\n",
       "             city                                            schools  \\\n",
       "0  Southern Pines  [{'rating': ['4', '4', '7', 'NR', '4', '7', 'N...   \n",
       "1  Spokane Valley  [{'rating': ['4/10', 'None/10', '4/10'], 'data...   \n",
       "2     Los Angeles  [{'rating': ['8/10', '4/10', '8/10'], 'data': ...   \n",
       "3          Dallas  [{'rating': ['9/10', '9/10', '10/10', '9/10'],...   \n",
       "4        Palm Bay  [{'rating': ['4/10', '5/10', '5/10'], 'data': ...   \n",
       "\n",
       "         sqft zipcode    beds state stories mls-id PrivatePool       MlsId  \\\n",
       "0        2900   28387       4    NC     NaN    NaN         NaN      611019   \n",
       "1  1,947 sqft   99216  3 Beds    WA     2.0    NaN         NaN   201916904   \n",
       "2  3,000 sqft   90049  3 Beds    CA     1.0    NaN         yes  FR19221027   \n",
       "3  6,457 sqft   75205  5 Beds    TX     3.0    NaN         NaN    14191809   \n",
       "4         NaN   32908     NaN    FL     NaN    NaN         NaN      861745   \n",
       "\n",
       "       target  \n",
       "0    $418,000  \n",
       "1    $310,000  \n",
       "2  $2,895,000  \n",
       "3  $2,395,000  \n",
       "4      $5,000  "
      ]
     },
     "execution_count": 153,
     "metadata": {},
     "output_type": "execute_result"
    }
   ],
   "source": [
    "df.head(5)"
   ]
  },
  {
   "cell_type": "code",
   "execution_count": 154,
   "metadata": {},
   "outputs": [
    {
     "name": "stdout",
     "output_type": "stream",
     "text": [
      "<class 'pandas.core.frame.DataFrame'>\n",
      "RangeIndex: 377185 entries, 0 to 377184\n",
      "Data columns (total 18 columns):\n",
      " #   Column        Non-Null Count   Dtype \n",
      "---  ------        --------------   ----- \n",
      " 0   status        337267 non-null  object\n",
      " 1   private pool  4181 non-null    object\n",
      " 2   propertyType  342452 non-null  object\n",
      " 3   street        377183 non-null  object\n",
      " 4   baths         270847 non-null  object\n",
      " 5   homeFacts     377185 non-null  object\n",
      " 6   fireplace     103115 non-null  object\n",
      " 7   city          377151 non-null  object\n",
      " 8   schools       377185 non-null  object\n",
      " 9   sqft          336608 non-null  object\n",
      " 10  zipcode       377185 non-null  object\n",
      " 11  beds          285903 non-null  object\n",
      " 12  state         377185 non-null  object\n",
      " 13  stories       226470 non-null  object\n",
      " 14  mls-id        24942 non-null   object\n",
      " 15  PrivatePool   40311 non-null   object\n",
      " 16  MlsId         310305 non-null  object\n",
      " 17  target        374704 non-null  object\n",
      "dtypes: object(18)\n",
      "memory usage: 51.8+ MB\n"
     ]
    }
   ],
   "source": [
    "df.info()"
   ]
  },
  {
   "cell_type": "markdown",
   "metadata": {},
   "source": [
    "**Описание данных:**  \n",
    "* <span style=background-color:#D3D3D3>'status'</span> — статус продажи;  \n",
    "* <span style=background-color:#D3D3D3>'private pool'</span> и <span style=background-color:#D3D3D3>'PrivatePool'</span> — наличие собственного бассейна;  \n",
    "* <span style=background-color:#D3D3D3>'propertyType'</span> — тип объекта недвижимости;  \n",
    "* <span style=background-color:#D3D3D3>'street'</span> — адрес объекта;  \n",
    "* <span style=background-color:#D3D3D3>'baths'</span> — количество ванных комнат;  \n",
    "* <span style=background-color:#D3D3D3>'homeFacts'</span> — сведения о строительстве объекта (содержит несколько типов сведений, влияющих на оценку объекта);  \n",
    "* <span style=background-color:#D3D3D3>'fireplace'</span> — наличие камина;  \n",
    "* <span style=background-color:#D3D3D3>'city'</span> — город;  \n",
    "* <span style=background-color:#D3D3D3>'schools'</span> — сведения о школах в районе;  \n",
    "* <span style=background-color:#D3D3D3>'sqft'</span> — площадь в футах;  \n",
    "* <span style=background-color:#D3D3D3>'zipcode'</span> — почтовый индекс;  \n",
    "* <span style=background-color:#D3D3D3>'beds'</span> — количество спален;  \n",
    "* <span style=background-color:#D3D3D3>'state'</span> — штат;  \n",
    "* <span style=background-color:#D3D3D3>'stories'</span> — количество этажей;  \n",
    "* <span style=background-color:#D3D3D3>'mls-id'</span> и <span style=background-color:#D3D3D3>'MlsId'</span> — идентификатор MLS (Multiple Listing Service, система мультилистинга);  \n",
    "* <span style=background-color:#D3D3D3>'target'</span> — цена объекта недвижимости (**целевой признак, который необходимо спрогнозировать**)."
   ]
  },
  {
   "cell_type": "markdown",
   "metadata": {},
   "source": [
    "**Важные сведения о данных:**  \n",
    "1. Признаки <span style=background-color:#D3D3D3>'homeFacts'</span> и <span style=background-color:#D3D3D3>'schools'</span> представляют собой словари и содержат несколько типов сведений. Необходимо десериализовать содержимое этих признаков. Если в нём есть полезные данные, необходимо создать из них новые признаки.\n",
    "\n",
    "2. Типы жилья (может пригодиться при обработке признака <span style=background-color:#D3D3D3>propertyType</span>): \n",
    "    * **apartment** — съёмная квартира (нельзя купить); \n",
    "    * **condo** — кондоминиум (можно купить); \n",
    "    * **co-op** — квартира в жилищном кооперативе;\n",
    "    * **single-family (detached, tiny home)** — односемейный (отдельный, маленький) дом;\n",
    "    * **townhome, townhouse** — таунхаус;\n",
    "\n",
    "3. Основные характеристики  жилья (может пригодиться при\n",
    "обработке признака <span style=background-color:#D3D3D3>propertyType</span>): \n",
    "    * **cape cod** — черепичная крыша, облицовка деревянным сайдингом, дверь в центре здания, окна по бокам, один-два этажа; \n",
    "    * **colonial home** — минимум два этажа, симметрия, лестница в центре здания, строгий внешний вид; \n",
    "    * **contemporary** — чистые, простые линии, нейтральные цвета, натуральные текстуры;\n",
    "    * **cottage** — небольшая уютная веранда, небольшие жилые помещения;\n",
    "    * **craftsman** — деревянные элементы ручной работы, выступающие балки, большие колонны;\n",
    "    * **Greek revival** — большие белые колонны, украшения в греческом стиле, нарядный вход;\n",
    "    * **farmhouse** — прямоугольная планировка, большое крыльцо, амбарная крыша;\n",
    "    * **French country** — влияние прованса, облицовка камнем, состаренный вид;\n",
    "    * **Mediterranean** — белая штукатурка, дерево и камень в тёплых тонах, черепичные крыши, элементы испанских и итальянских вилл;\n",
    "    * **midcentury modern** — сочетание плавных природных и строгих геометрических линий, гладкость, лаконичность, большие окна;\n",
    "    * **ranch** — один этаж, низкая крыша, открытые жилые помещения, задний двор;\n",
    "    * **split-level** — жилые помещения разделены короткими лестничными пролётами;\n",
    "    * **Tudor** — деревянные балки, каменная кладка, асимметричная крутая двускатная крыша;\n",
    "    * **Victorian (Queen Anne Houses)** — два-три и более этажей, богатый декор, крутая двускатная крыша, небольшие башенки, яркий фасад;\n",
    "    * **European Houses style** — кирпич или камень, высокая крутая крыша, высокие окна, часто со ставнями, традиционные декоративные детали (фронтоны, замковые камни);\n",
    "    * **log home** — деревянный дом.\n",
    "\n",
    "4. Некоторые жаргонные сокращения — для исправления дублирования (может пригодиться при обработке признака <span style=background-color:#D3D3D3>propertyType</span>):\n",
    "    * **manufactured home (house)** = **mobile** = **prefab** = **modular**; \n",
    "    * **mobile** = **mo2 le** = **mo2le**; \n",
    "    * **cabin** = **ca2 n** = **ca2n**; \n",
    "    * **midcentury** = **mid century** = **mid-century**;\n",
    "    * **single family** = **single-family home**.\n",
    "    \n",
    "5. Некоторые термины, используемые в сфере купли-продажи недвижимости:\n",
    "    * **status** — статус, состояние. \n",
    "    * **estate** — объект недвижимости. \n",
    "    * **foreclosed** (**foreclosure**) — «лишён права выкупа». *Это процесс, когда недвижимость переходит к кредитору из-за неуплаты ипотеки заёмщиком. Продажа foreclosure-недвижимости отличается от традиционных продаж.*\n",
    "    * **pre foreclosure** (**pre foreclosure auction**) — «до выкупа», «аукцион до выкупа».\n",
    "    * **under contract showing** (**under contract show**, **under contract**, **active under contract**) — предложение о покупке уже сделано, но не принято продавцом окончательно, и недвижимость продолжают показывать другим потенциальным покупателям.\n",
    "    * **under contract backups**, **active backup**, **backup contract** — предложение о покупке уже сделано и принято продавцом, однако он открыт для резервных предложений. \n",
    "    * **contingency** — дополнительные обстоятельства (критерии, которым должен соответствовать продавец/покупатель до завершения сделки).\n",
    "    * **contingency contract** — контракт на случай возникновения дополнительных обстоятельств.\n",
    "    * **active contingency** — сделка уже практически состоялась, однако продавцу/покупателю для её завершения необходимо выполнить какие-то условия.\n",
    "    * **insp inspection contingency** — ситуация, когда покупатель может официально проинспектировать объект недвижимости в определённый период времени.\n",
    "    * **pending escape clause** — договор, предполагающий свободный выход сторон из него.\n",
    "    * **pending backup wanted** — договор уже заключен, однако продавец хочет продолжать показывать недвижимость другим потенциальным покупателям и принимать резервные предложения.\n",
    "    * **pending take backups** — условие, предполагающее, что продавец может принимать резерные предложения, если сделка с текущим покупателем не состоится.\n",
    "    * **pending continue show** — договор уже заключен, однако продавец хочет продолжать показывать недвижимость другим потенциальным покупателям на случай, если текущая сделка не состоится.\n",
    "    * **pending inspection** — «в ожидании инспекции».\n",
    "    * **due diligence period** — период, в течение которого покупатель имеет право проинспектировать недвижимость и изучить всю важную для заключения сделки информацию.\n",
    "    * **activated** — «активен», открыт для покупки.\n",
    "    * **active with contract** — продавец уже принял предложение о покупке, однако сделка ещё не закрыта.\n",
    "    * **active with offer** — продавец принял предложение о покупке, однако ищет резервные предложения на случай, если сделка с текущим покупателем не состоится.\n",
    "    * **active auction**, **auction active**, **auction** — продажа недвижимости с помощью аукциона.\n",
    "    * **cooling-off period** — период, в течение которого покупатель может расторгнуть договор после завершения сделки."
   ]
  },
  {
   "cell_type": "markdown",
   "metadata": {},
   "source": [
    "## 3. ОЧИСТКА ДАННЫХ"
   ]
  },
  {
   "cell_type": "markdown",
   "metadata": {},
   "source": [
    "Посмотрим на количество дублирующих наблюдения в данных:"
   ]
  },
  {
   "cell_type": "code",
   "execution_count": 155,
   "metadata": {},
   "outputs": [
    {
     "name": "stdout",
     "output_type": "stream",
     "text": [
      "В данных содержится 50 дубликатов\n"
     ]
    }
   ],
   "source": [
    "dubl = df.duplicated().sum()\n",
    "print(f'В данных содержится {dubl} дубликатов')"
   ]
  },
  {
   "cell_type": "markdown",
   "metadata": {},
   "source": [
    "Удалим дубликаты:"
   ]
  },
  {
   "cell_type": "code",
   "execution_count": 156,
   "metadata": {},
   "outputs": [],
   "source": [
    "df = df.drop_duplicates(ignore_index=True)"
   ]
  },
  {
   "cell_type": "markdown",
   "metadata": {},
   "source": [
    "Посмотрим на количество пропусков в признаках:"
   ]
  },
  {
   "cell_type": "code",
   "execution_count": 157,
   "metadata": {},
   "outputs": [
    {
     "data": {
      "text/plain": [
       "status           39917\n",
       "private pool    372954\n",
       "propertyType     34733\n",
       "street               2\n",
       "baths           106308\n",
       "homeFacts            0\n",
       "fireplace       274023\n",
       "city                34\n",
       "schools              0\n",
       "sqft             40550\n",
       "zipcode              0\n",
       "beds             91254\n",
       "state                0\n",
       "stories         150673\n",
       "mls-id          352193\n",
       "PrivatePool     336825\n",
       "MlsId            66869\n",
       "target            2480\n",
       "dtype: int64"
      ]
     },
     "execution_count": 157,
     "metadata": {},
     "output_type": "execute_result"
    }
   ],
   "source": [
    "# общщее колличество пропусков по каждому признаку\n",
    "missings = df.isnull().sum()\n",
    "missings"
   ]
  },
  {
   "cell_type": "code",
   "execution_count": 158,
   "metadata": {},
   "outputs": [
    {
     "name": "stdout",
     "output_type": "stream",
     "text": [
      "status 10.58 %\n",
      "private pool 98.89 %\n",
      "propertyType 9.21 %\n",
      "street 0.0 %\n",
      "baths 28.19 %\n",
      "fireplace 72.66 %\n",
      "city 0.01 %\n",
      "sqft 10.75 %\n",
      "beds 24.2 %\n",
      "stories 39.95 %\n",
      "mls-id 93.39 %\n",
      "PrivatePool 89.31 %\n",
      "MlsId 17.73 %\n",
      "target 0.66 %\n"
     ]
    }
   ],
   "source": [
    "# пропуски в признаках в процентном соотношении\n",
    "for col_name, missings_count in missings.items():\n",
    "    if missings_count > 0:\n",
    "        percents = (missings_count / len(df)) * 100\n",
    "        print(col_name, round(percents,2),'%')\n",
    "        "
   ]
  },
  {
   "cell_type": "markdown",
   "metadata": {},
   "source": [
    "### Признаки private pool и PrivatePool"
   ]
  },
  {
   "cell_type": "markdown",
   "metadata": {},
   "source": [
    "Признаки **private pool** и **PrivatePool** содержат более 80% пропусков."
   ]
  },
  {
   "cell_type": "markdown",
   "metadata": {},
   "source": [
    "Согласно брифу Признаки **private pool** и **PrivatePool** содержат одинаковую информацию: наличие или отсутствие собственного бассейна. Вероятно, один содержит данные отсутсвующие в другом, а второй данные отсутсвующие в первом. Посмотрим на их содержание:"
   ]
  },
  {
   "cell_type": "code",
   "execution_count": 159,
   "metadata": {},
   "outputs": [
    {
     "name": "stdout",
     "output_type": "stream",
     "text": [
      "Уникальные значения в параметре private pool: [nan 'Yes']\n",
      "Уникальные значения в параметре PrivatePool: [nan 'yes' 'Yes']\n"
     ]
    }
   ],
   "source": [
    "print('Уникальные значения в параметре private pool:', df['private pool'].unique())\n",
    "print('Уникальные значения в параметре PrivatePool:', df['PrivatePool'].unique())"
   ]
  },
  {
   "cell_type": "markdown",
   "metadata": {},
   "source": [
    "Признак **PrivatePool** содержит три варианта значения, в то время как **private pool** только два. Приведем к единообразию и объединим признаки:"
   ]
  },
  {
   "cell_type": "code",
   "execution_count": 160,
   "metadata": {},
   "outputs": [
    {
     "name": "stdout",
     "output_type": "stream",
     "text": [
      "332644\n"
     ]
    }
   ],
   "source": [
    "df['PrivatePool'] = df['PrivatePool'].replace('yes', 'Yes')\n",
    "#объединим два параметра используя метод DataFrame.combine_first, чтобы заполнить пропуски одного значением другого\n",
    "df['PrivatePool'] = df['private pool'].combine_first(df['PrivatePool'])\n",
    "# удалим столбец private pool\n",
    "df = df.drop('private pool', axis=1)\n",
    "#посмотрим на кол-во пропусков PrivatePool после объединения\n",
    "print(df['PrivatePool'].isnull().sum())"
   ]
  },
  {
   "cell_type": "markdown",
   "metadata": {},
   "source": [
    "Пропуски в признаке **PrivatePool** указывают на отсутсвие собственного басейна, булево закодируем признаки, пусть наличие басейна будет *True*, а отсутсвие - *False*:"
   ]
  },
  {
   "cell_type": "code",
   "execution_count": 161,
   "metadata": {},
   "outputs": [],
   "source": [
    "#заменим NaN значение на False\n",
    "df['PrivatePool'] = df['PrivatePool'].fillna(False)\n",
    "#заменим значение Yes на True\n",
    "df['PrivatePool'] = df['PrivatePool'].replace('Yes', True)"
   ]
  },
  {
   "cell_type": "code",
   "execution_count": 162,
   "metadata": {},
   "outputs": [
    {
     "name": "stdout",
     "output_type": "stream",
     "text": [
      "<class 'pandas.core.frame.DataFrame'>\n",
      "RangeIndex: 377135 entries, 0 to 377134\n",
      "Data columns (total 17 columns):\n",
      " #   Column        Non-Null Count   Dtype \n",
      "---  ------        --------------   ----- \n",
      " 0   status        337218 non-null  object\n",
      " 1   propertyType  342402 non-null  object\n",
      " 2   street        377133 non-null  object\n",
      " 3   baths         270827 non-null  object\n",
      " 4   homeFacts     377135 non-null  object\n",
      " 5   fireplace     103112 non-null  object\n",
      " 6   city          377101 non-null  object\n",
      " 7   schools       377135 non-null  object\n",
      " 8   sqft          336585 non-null  object\n",
      " 9   zipcode       377135 non-null  object\n",
      " 10  beds          285881 non-null  object\n",
      " 11  state         377135 non-null  object\n",
      " 12  stories       226462 non-null  object\n",
      " 13  mls-id        24942 non-null   object\n",
      " 14  PrivatePool   377135 non-null  bool  \n",
      " 15  MlsId         310266 non-null  object\n",
      " 16  target        374655 non-null  object\n",
      "dtypes: bool(1), object(16)\n",
      "memory usage: 46.4+ MB\n"
     ]
    }
   ],
   "source": [
    "df.info()"
   ]
  },
  {
   "cell_type": "markdown",
   "metadata": {},
   "source": [
    "Посмотрим на дубликаты после преобразования признака **PrivatePool**:"
   ]
  },
  {
   "cell_type": "code",
   "execution_count": 163,
   "metadata": {},
   "outputs": [
    {
     "data": {
      "text/plain": [
       "0"
      ]
     },
     "execution_count": 163,
     "metadata": {},
     "output_type": "execute_result"
    }
   ],
   "source": [
    "df.duplicated().sum()"
   ]
  },
  {
   "cell_type": "markdown",
   "metadata": {},
   "source": [
    "### Признак fireplace"
   ]
  },
  {
   "cell_type": "code",
   "execution_count": 164,
   "metadata": {},
   "outputs": [
    {
     "data": {
      "text/plain": [
       "1652"
      ]
     },
     "execution_count": 164,
     "metadata": {},
     "output_type": "execute_result"
    }
   ],
   "source": [
    "#посмотрим на общее кол-во уникальных значений признака\n",
    "df['fireplace'].str.lower().nunique()"
   ]
  },
  {
   "cell_type": "code",
   "execution_count": 165,
   "metadata": {},
   "outputs": [
    {
     "data": {
      "text/plain": [
       "yes                          71209\n",
       "1                            14544\n",
       "2                             2432\n",
       "not applicable                1993\n",
       "fireplace                      847\n",
       "3                              564\n",
       "living room                    433\n",
       "location                       399\n",
       "wood burning                   311\n",
       "gas/gas logs                   300\n",
       "no                             289\n",
       "fireplace yn                   287\n",
       "special features               279\n",
       "1 fireplace                    274\n",
       "0                              271\n",
       "familyrm                       246\n",
       "fireplace features             239\n",
       "great room                     207\n",
       "wood                           206\n",
       "gas logs, great room           188\n",
       "ceiling fan                    186\n",
       "living room, wood burning      185\n",
       "4                              184\n",
       "family room, wood burning      149\n",
       "familyrm, gas logs             146\n",
       "gas                            134\n",
       "gas logs, in great room        112\n",
       "gas logs                       107\n",
       "gas logs, in living room       104\n",
       "family room                    103\n",
       "Name: fireplace, dtype: int64"
      ]
     },
     "execution_count": 165,
     "metadata": {},
     "output_type": "execute_result"
    }
   ],
   "source": [
    "#посмотрим на распределение уникальных значений признака\n",
    "df['fireplace'].str.lower().value_counts().head(30)"
   ]
  },
  {
   "cell_type": "markdown",
   "metadata": {},
   "source": [
    "Признак **fireplace** содержит множество различных вариаций, однако приобладающим значением является '*yes*'. По сути, его значимость заключается в определении наличия или отсутсвия камина. Давайте его бинарно закодируем. Наличие камина будет True, отсутсвие - False:"
   ]
  },
  {
   "cell_type": "code",
   "execution_count": 166,
   "metadata": {},
   "outputs": [],
   "source": [
    "df['fireplace'] = df['fireplace'].apply(lambda x: True if x not in ['', 'no data', 'None', 'none', '0', 'not applicable', 'no'] and not pd.isna(x) else False)"
   ]
  },
  {
   "cell_type": "code",
   "execution_count": 167,
   "metadata": {},
   "outputs": [
    {
     "data": {
      "text/plain": [
       "False    274295\n",
       "True     102840\n",
       "Name: fireplace, dtype: int64"
      ]
     },
     "execution_count": 167,
     "metadata": {},
     "output_type": "execute_result"
    }
   ],
   "source": [
    "# посмотрим на соотношение вариаций признака после кодирования\n",
    "df['fireplace'].value_counts()\n"
   ]
  },
  {
   "cell_type": "markdown",
   "metadata": {},
   "source": [
    "### Признак propertyType"
   ]
  },
  {
   "cell_type": "markdown",
   "metadata": {},
   "source": [
    "Посмотрим на количество уникальных значений в **propertyType**:"
   ]
  },
  {
   "cell_type": "code",
   "execution_count": 168,
   "metadata": {},
   "outputs": [
    {
     "data": {
      "text/plain": [
       "1280"
      ]
     },
     "execution_count": 168,
     "metadata": {},
     "output_type": "execute_result"
    }
   ],
   "source": [
    "df['propertyType'].nunique()"
   ]
  },
  {
   "cell_type": "markdown",
   "metadata": {},
   "source": [
    "Посмотрим на распределение уникальных значений:"
   ]
  },
  {
   "cell_type": "code",
   "execution_count": 169,
   "metadata": {},
   "outputs": [
    {
     "data": {
      "text/plain": [
       "single-family home               92199\n",
       "Single Family                    62867\n",
       "Single Family Home               31728\n",
       "condo                            25964\n",
       "lot/land                         20526\n",
       "Condo                            16561\n",
       "townhouse                        11456\n",
       "Land                             10934\n",
       "multi-family                      7900\n",
       "Condo/Townhome/Row Home/Co-Op     7701\n",
       "Townhouse                         6936\n",
       "Traditional                       5913\n",
       "coop                              3265\n",
       "Multi Family                      2793\n",
       "High Rise                         1823\n",
       "Ranch                             1781\n",
       "mobile/manufactured               1618\n",
       "Detached, One Story               1614\n",
       "Single Detached, Traditional      1581\n",
       "Contemporary                      1557\n",
       "Multi-Family Home                 1501\n",
       "1 Story                           1234\n",
       "Colonial                          1205\n",
       "Mobile / Manufactured             1066\n",
       "Contemporary/Modern               1000\n",
       "2 Stories                          911\n",
       "Mfd/Mobile Home                    792\n",
       "Single Detached                    751\n",
       "Detached, Two Story                638\n",
       "Apartment                          609\n",
       "One Story                          592\n",
       "Transitional                       560\n",
       "Cooperative                        535\n",
       "Florida                            530\n",
       "Bungalow                           442\n",
       "Farms/Ranches                      371\n",
       "apartment                          312\n",
       "Two Story                          312\n",
       "Garden Home                        305\n",
       "2 Story                            282\n",
       "Name: propertyType, dtype: int64"
      ]
     },
     "execution_count": 169,
     "metadata": {},
     "output_type": "execute_result"
    }
   ],
   "source": [
    "df['propertyType'].value_counts().head(40)"
   ]
  },
  {
   "cell_type": "markdown",
   "metadata": {},
   "source": [
    "Видим, что многие значения различаются по форме написания, но суть есть одно. Преобразуем их, а также сформируем значение *Other* из значений не описывающих тип недвижимости:"
   ]
  },
  {
   "cell_type": "code",
   "execution_count": 170,
   "metadata": {},
   "outputs": [
    {
     "name": "stdout",
     "output_type": "stream",
     "text": [
      "Количество уникальных значений после преобразования:1269\n"
     ]
    }
   ],
   "source": [
    "#преобразуем все значения к строчному написанию\n",
    "df.propertyType = df.propertyType.str.lower()\n",
    "#приведем написание к единой форме,  так же заменим yes и unknown на Other\n",
    "df.propertyType = df.propertyType \\\n",
    ".str.replace('single-family home','single family') \\\n",
    ".str.replace('single family home','single family') \\\n",
    ".str.replace('yes','Other') \\\n",
    ".str.replace('unknown','Other')\n",
    "    \n",
    "#выведем количество уникальных значений после преобразования\n",
    "print('Количество уникальных значений после преобразования:{}'.format(df['propertyType'].nunique()))\n"
   ]
  },
  {
   "cell_type": "markdown",
   "metadata": {},
   "source": [
    "В признаке много значений выполненных в форме перечисления через запятую, так же большое количество синонимов. Приобразуем эти данные:"
   ]
  },
  {
   "cell_type": "code",
   "execution_count": 171,
   "metadata": {},
   "outputs": [
    {
     "name": "stdout",
     "output_type": "stream",
     "text": [
      "количество пропусков:0\n",
      "количество уникальных значений:12\n",
      "уникальные значения:\n",
      "single_family_home    195937\n",
      "condo                  56958\n",
      "other                  51584\n",
      "land                   31460\n",
      "townhouse              18543\n",
      "multi_family_home      12349\n",
      "mobile_home             3551\n",
      "modern                  3252\n",
      "ranch                   2033\n",
      "apartment               1308\n",
      "miscellaneous             96\n",
      "historical                64\n",
      "Name: propertyType, dtype: int64\n"
     ]
    }
   ],
   "source": [
    "#избавимся от избыточной информации\n",
    "df['propertyType'] = df['propertyType'].str.split(',').str[0]\n",
    "#функция преобразования синонимов\n",
    "def syn_rename(value):\n",
    "    for key, syn_val in synonyms.items():\n",
    "        if value in syn_val:\n",
    "            return key\n",
    "    return 'other'\n",
    "\n",
    "#словарь синонимов\n",
    "synonyms = {\n",
    "    'single_family_home': [\n",
    "        'single family', '1 story', '2 story', 'detached', '1 story/ranch', '1 story traditional', 'single detached', 'singlefamilyresidence', 'single wide', 'single-wide mobile with land',\n",
    "        'two story', 'one story', 'one level unit', 'rancher', '1 1/2 story', 'single wide mh', 'one story traditional'],\n",
    "    'multi_family_home': [\n",
    "        'multi-family', 'multi-family home', 'duplex', 'triplex', 'fourplex', 'multi_level', 'multi family', '2 unit condo', '2-story'],\n",
    "    'condo': [\n",
    "        'condo', 'coop', 'cooperative', 'condo/townhome/row home/co-op', 'condo/townhome', 'condominium', 'condo/unit', 'apartment/condo/townhouse', 'co-op', '2 story condo', 'high rise'],\n",
    "    'townhouse': [\n",
    "        'townhouse', 'townhome style', 'townhouse-interior', 'townhouse-end unit'],\n",
    "    'apartment': [\n",
    "        'apartment', 'condominium (single level)', 'high-rise', 'mid-rise', 'low-rise (1-3 stories)', 'Flats', 'studio'],\n",
    "    'land': [\n",
    "        'lot/land', 'land'],\n",
    "    'mobile_home': [\n",
    "        'mobile/manufactured', 'mobile / manufactured', 'manufactured house', 'mfd/mobile home', 'mobile home', 'manufactured home', 'manufactured double-wide', 'manufactured single-wide', 'mobile home 1 story', 'mobile manu - double wide'],\n",
    "    'miscellaneous': [\n",
    "        'miscellaneous'],\n",
    "    'ranch': [\n",
    "        'ranch', 'one story'],\n",
    "    'modern': [\n",
    "        'contemporary', 'contemporary/modern', \"modern\", 'mid-century modern', 'modern farmhouse', 'modernist'],\n",
    "    'historical': [\n",
    "        'historical', 'designated historical home', 'historical/conservation district', 'historic/older', 'historic vintage', 'historic'],\n",
    "    'other': [\n",
    "        'Other', 'english', 'urban contemporary', 'other style', 'florida', 'farms/ranches', 'carriage house', 'country english', 'straight thru', 'less than 4 floors', 'bungalow', 'custom', 'arts & crafts', 'tudor', 'new build 2019', 'split foyer', 'cottage', 'cottage/camp', 'garden home', 'farm/ranch', 'farm/ranch house', 'farm house', 'hi ranch', 'attached duplex', 'farmhouse', 'houseboat', 'ground floor', 'victorian', '3 story', '3+ stories', 'santa barbara/tuscan', 'old style', 'modular/prefab', 'post and beam', 'manuf/mobile', 'multiple occupancy', 'attached', 'hawaiian plantation', 'forest garden home', '1 1/2 story with basement', 'split-entry', 'texas hill country', 'lake house', '1 story with basement', 'hi-rise', 'coastal beach home', 'historical', 'key west/coastal', 'loft/balcony', 'english manor', 'mid-rise (4-7 stories)', 'mid-level', 'new englander', 'residential (<1 acre)', 'ranch','residential (1+ acre)', 'split', 'split level', 'split (4 level)', 'split (5+ level)', 'urban', 'patio', 'patio home', 'penthouse', 'manor', 'victorian/federal', 'coastal', 'coastal contemporary', 'coastal ii', 'coastal modern', 'coastal two story', 'mountain contemporary', 'key west', 'high ranch', 'end unit']\n",
    "}\n",
    "\n",
    "#преобразуем синонимы в нашем признаке\n",
    "df['propertyType']= df['propertyType'].apply(syn_rename)\n",
    "\n",
    "#смотрим количество пропусков и уникальных значений после приобразования\n",
    "print(f'количество пропусков:{df.propertyType.isna().sum()}\\n'\n",
    "      f'количество уникальных значений:{df.propertyType.nunique()}\\n'\n",
    "      f'уникальные значения:\\n{df.propertyType.value_counts()}')"
   ]
  },
  {
   "cell_type": "markdown",
   "metadata": {},
   "source": [
    "### Признак stories"
   ]
  },
  {
   "cell_type": "markdown",
   "metadata": {},
   "source": [
    "Признак **stories** содержит информацию об количестве этажей. Посмотрим на признак:"
   ]
  },
  {
   "cell_type": "code",
   "execution_count": 172,
   "metadata": {},
   "outputs": [
    {
     "name": "stdout",
     "output_type": "stream",
     "text": [
      "Количество уникальных значений:348\n",
      "количество пропусков:150673\n",
      "Количество пропусков в процентном отношении:39.95%\n",
      "распределение значений:\n",
      "1.0                                  67451\n",
      "2.0                                  55283\n",
      "1                                    23085\n",
      "2                                    18146\n",
      "3.0                                  11272\n",
      "                                     ...  \n",
      "Manufactured Home, Non-Site Built        1\n",
      "Bedroom - Split Plan                     1\n",
      "78                                       1\n",
      "One, Two, Multi/Split                    1\n",
      "65.0                                     1\n",
      "Name: stories, Length: 348, dtype: int64\n"
     ]
    }
   ],
   "source": [
    "print(f\"Количество уникальных значений:{df['stories'].nunique()}\")\n",
    "print(f\"количество пропусков:{df['stories'].isna().sum()}\")\n",
    "print(f\"Количество пропусков в процентном отношении:{round(df['stories'].isna().sum()/len(df)*100,2)}%\")\n",
    "print(f\"распределение значений:\\n{df['stories'].value_counts()}\")"
   ]
  },
  {
   "cell_type": "markdown",
   "metadata": {},
   "source": [
    "Посмотрим на распределение пропусков по типам объектов:"
   ]
  },
  {
   "cell_type": "code",
   "execution_count": 173,
   "metadata": {},
   "outputs": [
    {
     "data": {
      "text/plain": [
       "single_family_home    46341\n",
       "other                 37042\n",
       "land                  28883\n",
       "condo                 24360\n",
       "multi_family_home      5212\n",
       "townhouse              3939\n",
       "mobile_home            1499\n",
       "ranch                  1389\n",
       "modern                 1129\n",
       "apartment               824\n",
       "historical               44\n",
       "miscellaneous            11\n",
       "Name: propertyType, dtype: int64"
      ]
     },
     "execution_count": 173,
     "metadata": {},
     "output_type": "execute_result"
    }
   ],
   "source": [
    "df[df.stories.isna()].propertyType.value_counts()"
   ]
  },
  {
   "cell_type": "markdown",
   "metadata": {},
   "source": [
    "Значение признака **stories** *single_family_home* наиболее представленно в данных, и может быть представлен как одноэтажными так и иными по этажности домами, посмотрим на отношение пропущенных данных по этому значению:"
   ]
  },
  {
   "cell_type": "code",
   "execution_count": 174,
   "metadata": {},
   "outputs": [
    {
     "name": "stdout",
     "output_type": "stream",
     "text": [
      "Количество пропусков в признаке stories по типу single_family_home в отношении ко всему объему данных: 12.29%\n",
      "Количество пропусков в признаке stories по типу single_family_home в отношении к всему объему single_family_home: 23.65%\n"
     ]
    }
   ],
   "source": [
    "selected_sfh = df[(df.stories.isna()) & (df['propertyType'] == 'single_family_home')]\n",
    "percent_sfh = len(selected_sfh)/len(df)*100\n",
    "single_family_home = df[(df['propertyType'] == 'single_family_home')]\n",
    "percent_single_family_home = len(selected_sfh)/len(single_family_home)*100\n",
    "\n",
    "print(f\"Количество пропусков в признаке stories по типу single_family_home в отношении ко всему объему данных: {round(percent_sfh,2)}%\")\n",
    "print(f\"Количество пропусков в признаке stories по типу single_family_home в отношении к всему объему single_family_home: {round(percent_single_family_home,2)}%\")"
   ]
  },
  {
   "cell_type": "markdown",
   "metadata": {},
   "source": [
    "В признаке 39.95% пропусков распределенные по всем типам объектов, так же присутствует некоторое количество текстовых значений. И если в случае с land, condo, apartment, mobile_home, ranch мы можем принять условность, что этажность может быть ровна 0, то с остальными признаками - нет. Поиск и заполнение данных по каждому объекту не целесообразно, лучше удалить этот признак:"
   ]
  },
  {
   "cell_type": "code",
   "execution_count": 175,
   "metadata": {},
   "outputs": [],
   "source": [
    "df = df.drop('stories', axis=1)"
   ]
  },
  {
   "cell_type": "markdown",
   "metadata": {},
   "source": [
    "### Признак street"
   ]
  },
  {
   "cell_type": "markdown",
   "metadata": {},
   "source": [
    "Признак **street** содержит информацию об адресе объекта. Посмотрим нуждается ли он в оптимизации:"
   ]
  },
  {
   "cell_type": "code",
   "execution_count": 176,
   "metadata": {},
   "outputs": [
    {
     "data": {
      "text/plain": [
       "Address Not Disclosed        672\n",
       "Undisclosed Address          517\n",
       "(undisclosed Address)        391\n",
       "Address Not Available        175\n",
       "Unknown Address               72\n",
       "                            ... \n",
       "1737 Parkview Green Cir        1\n",
       "14890 Rockridge Ln             1\n",
       "497 Kingswood Dr               1\n",
       "202 Seacrest Beach Blvd W      1\n",
       "5983 Midcrown Dr               1\n",
       "Name: street, Length: 337076, dtype: int64"
      ]
     },
     "execution_count": 176,
     "metadata": {},
     "output_type": "execute_result"
    }
   ],
   "source": [
    "df['street'].value_counts()"
   ]
  },
  {
   "cell_type": "code",
   "execution_count": 177,
   "metadata": {},
   "outputs": [
    {
     "data": {
      "text/plain": [
       "2"
      ]
     },
     "execution_count": 177,
     "metadata": {},
     "output_type": "execute_result"
    }
   ],
   "source": [
    "df['street'].isna().sum()"
   ]
  },
  {
   "cell_type": "markdown",
   "metadata": {},
   "source": [
    "Мы имеем два пропуска и множестно значений обозначающих, что адрес не разглашается, либо недоступен, либо неизвестен. Примим идею, что все эти значения есть суть одно, объединим их, отнесем к ним пропуски:"
   ]
  },
  {
   "cell_type": "code",
   "execution_count": 178,
   "metadata": {},
   "outputs": [
    {
     "data": {
      "text/plain": [
       "Undisclosed Address          1829\n",
       "2103 E State Hwy 21            57\n",
       "11305 Gulf Fwy                 54\n",
       "17030 Youngblood Rd.           38\n",
       "NE 58th Cir                    34\n",
       "                             ... \n",
       "1737 Parkview Green Cir         1\n",
       "14890 Rockridge Ln              1\n",
       "497 Kingswood Dr                1\n",
       "202 Seacrest Beach Blvd W       1\n",
       "5983 Midcrown Dr                1\n",
       "Name: street, Length: 337072, dtype: int64"
      ]
     },
     "execution_count": 178,
     "metadata": {},
     "output_type": "execute_result"
    }
   ],
   "source": [
    "#список синонимов\n",
    "disclosed_adress = {\n",
    "    'Undisclosed Address':['Address Not Disclosed', 'Undisclosed Address','(undisclosed Address)','Address Not Available', 'Unknown Address']\n",
    "}\n",
    "#функция замены синонимов\n",
    "def undisclosed_Address(value):\n",
    "    for key, val in disclosed_adress.items():\n",
    "        if value in val:\n",
    "            return key\n",
    "    return value\n",
    "#заменяем синонимы\n",
    "df['street'] = df['street'].apply(undisclosed_Address)    \n",
    "#заменяем пропуски на Undisclosed Address        \n",
    "df['street'] = df['street'].fillna('Undisclosed Address')        \n",
    "\n",
    "df['street'].value_counts()"
   ]
  },
  {
   "cell_type": "code",
   "execution_count": 179,
   "metadata": {},
   "outputs": [
    {
     "data": {
      "text/plain": [
       "337072"
      ]
     },
     "execution_count": 179,
     "metadata": {},
     "output_type": "execute_result"
    }
   ],
   "source": [
    "df['street'].nunique()"
   ]
  },
  {
   "cell_type": "markdown",
   "metadata": {},
   "source": [
    "Оптимизируем варианты признака приведя к нижнему регистру:"
   ]
  },
  {
   "cell_type": "code",
   "execution_count": 180,
   "metadata": {},
   "outputs": [],
   "source": [
    "df['street'] = df['street'].str.lower()"
   ]
  },
  {
   "cell_type": "code",
   "execution_count": 181,
   "metadata": {},
   "outputs": [
    {
     "data": {
      "text/plain": [
       "336262"
      ]
     },
     "execution_count": 181,
     "metadata": {},
     "output_type": "execute_result"
    }
   ],
   "source": [
    "df['street'].nunique()"
   ]
  },
  {
   "cell_type": "markdown",
   "metadata": {},
   "source": [
    "### Признак city"
   ]
  },
  {
   "cell_type": "markdown",
   "metadata": {},
   "source": [
    "Есть пропуски попробуем востановить по признаку **zipcode** при помощи **geopy**:"
   ]
  },
  {
   "cell_type": "code",
   "execution_count": 182,
   "metadata": {},
   "outputs": [],
   "source": [
    "#df_zip = df.copy()"
   ]
  },
  {
   "cell_type": "code",
   "execution_count": 183,
   "metadata": {},
   "outputs": [],
   "source": [
    "#user_agent = UserAgent().random\n",
    "#geolocator = Nominatim(user_agent=user_agent, timeout=10)\n",
    "\n",
    "#def get_coordinates(address, retry_count=3):\n",
    "#    if retry_count <= 0:\n",
    "#       return None\n",
    "\n",
    "#    try:\n",
    "#        location = geolocator.geocode(address)\n",
    "#        if location:\n",
    "#            return (location.address)\n",
    "#        else:\n",
    "#            return None\n",
    "#    except (GeocoderTimedOut, GeocoderUnavailable, GeocoderServiceError):\n",
    "#        return get_coordinates(address, retry_count - 1)\n",
    "\n",
    "#df_zip['location'] = df_zip['zipcode'].apply(get_coordinates)"
   ]
  },
  {
   "cell_type": "code",
   "execution_count": 184,
   "metadata": {},
   "outputs": [],
   "source": [
    "#df_zip.head(5)"
   ]
  },
  {
   "cell_type": "code",
   "execution_count": 185,
   "metadata": {},
   "outputs": [],
   "source": [
    "#df_zip[df_zip['city'].isna()]"
   ]
  },
  {
   "cell_type": "code",
   "execution_count": 186,
   "metadata": {},
   "outputs": [],
   "source": [
    "#df_zip['city'].isna().sum()"
   ]
  },
  {
   "cell_type": "markdown",
   "metadata": {},
   "source": [
    "Видим, что попытка решить через **geopy** не увенчалась успехом. Пропусков всего 34, заполним их в ручном режиме проверяя zip-code через https://tools.usps.com/  сверяя результат с кодом штата признака **state**:"
   ]
  },
  {
   "cell_type": "code",
   "execution_count": 187,
   "metadata": {},
   "outputs": [],
   "source": [
    "df.at[7830,'city'] = 'Reddick'\n",
    "df.at[21529,'city'] = 'MORRISTON'\n",
    "df.at[26466,'city'] = 'LAREDO'\n",
    "df.at[60990,'city'] = 'OCALA'\n",
    "df.at[81509,'city'] = 'DUNNELLON'\n",
    "df.at[122337,'city'] = 'OCALA'\n",
    "df.at[123481,'city'] = 'PUNTA GORDA'\n",
    "df.at[131266,'city'] = 'PORT CHARLOTTE'\n",
    "df.at[151954,'city'] = 'OCALA'\n",
    "df.at[170335,'city'] = 'KISSIMMEE'\n",
    "df.at[171290,'city'] = 'LAREDO'\n",
    "df.at[186779,'city'] = 'OCALA'\n",
    "df.at[199648,'city'] = 'OCALA'\n",
    "df.at[215069,'city'] = 'SILVER SPRINGS'\n",
    "df.at[221264,'city'] = 'LAREDO'\n",
    "df.at[221853,'city'] = 'LAREDO'\n",
    "df.at[222785,'city'] = 'OCALA'\n",
    "df.at[262327,'city'] = 'CLEVELAND'\n",
    "df.at[270897,'city'] = 'LAREDO'\n",
    "df.at[277436,'city'] = 'REDDICK'\n",
    "df.at[278490,'city'] = 'KISSIMMEE'\n",
    "df.at[281993,'city'] = 'KISSIMMEE'\n",
    "df.at[304900,'city'] = 'KISSIMMEE'\n",
    "df.at[309230,'city'] = 'KISSIMMEE'\n",
    "df.at[312934,'city'] = 'DUNNELLON'\n",
    "df.at[325746,'city'] = 'PUNTA GORDA'\n",
    "df.at[331144,'city'] = 'OCKLAWAHA'\n",
    "df.at[342308,'city'] = 'LAREDO'\n",
    "df.at[346252,'city'] = 'MIAMI'\n",
    "df.at[355353,'city'] = 'PUNTA GORDA'\n",
    "df.at[358892,'city'] = 'KISSIMMEE'\n",
    "df.at[370033,'city'] = 'HOUSTON'\n",
    "df.at[370460,'city'] = 'OCKLAWAHA'"
   ]
  },
  {
   "cell_type": "code",
   "execution_count": 188,
   "metadata": {},
   "outputs": [
    {
     "data": {
      "text/html": [
       "<div>\n",
       "<style scoped>\n",
       "    .dataframe tbody tr th:only-of-type {\n",
       "        vertical-align: middle;\n",
       "    }\n",
       "\n",
       "    .dataframe tbody tr th {\n",
       "        vertical-align: top;\n",
       "    }\n",
       "\n",
       "    .dataframe thead th {\n",
       "        text-align: right;\n",
       "    }\n",
       "</style>\n",
       "<table border=\"1\" class=\"dataframe\">\n",
       "  <thead>\n",
       "    <tr style=\"text-align: right;\">\n",
       "      <th></th>\n",
       "      <th>status</th>\n",
       "      <th>propertyType</th>\n",
       "      <th>street</th>\n",
       "      <th>baths</th>\n",
       "      <th>homeFacts</th>\n",
       "      <th>fireplace</th>\n",
       "      <th>city</th>\n",
       "      <th>schools</th>\n",
       "      <th>sqft</th>\n",
       "      <th>zipcode</th>\n",
       "      <th>beds</th>\n",
       "      <th>state</th>\n",
       "      <th>mls-id</th>\n",
       "      <th>PrivatePool</th>\n",
       "      <th>MlsId</th>\n",
       "      <th>target</th>\n",
       "    </tr>\n",
       "  </thead>\n",
       "  <tbody>\n",
       "    <tr>\n",
       "      <th>130554</th>\n",
       "      <td>For sale</td>\n",
       "      <td>single_family_home</td>\n",
       "      <td>20003 mar rojo y mar egeo</td>\n",
       "      <td>Bathrooms: 6</td>\n",
       "      <td>{'atAGlanceFacts': [{'factValue': '2000', 'fac...</td>\n",
       "      <td>False</td>\n",
       "      <td>NaN</td>\n",
       "      <td>[{'rating': ['5/10', 'NA', '4/10'], 'data': {'...</td>\n",
       "      <td>Total interior livable area: 5,905 sqft</td>\n",
       "      <td>20003</td>\n",
       "      <td>5 bd</td>\n",
       "      <td>MA</td>\n",
       "      <td>A10761803</td>\n",
       "      <td>True</td>\n",
       "      <td>NaN</td>\n",
       "      <td>$1,650,000</td>\n",
       "    </tr>\n",
       "  </tbody>\n",
       "</table>\n",
       "</div>"
      ],
      "text/plain": [
       "          status        propertyType                     street         baths  \\\n",
       "130554  For sale  single_family_home  20003 mar rojo y mar egeo  Bathrooms: 6   \n",
       "\n",
       "                                                homeFacts  fireplace city  \\\n",
       "130554  {'atAGlanceFacts': [{'factValue': '2000', 'fac...      False  NaN   \n",
       "\n",
       "                                                  schools  \\\n",
       "130554  [{'rating': ['5/10', 'NA', '4/10'], 'data': {'...   \n",
       "\n",
       "                                           sqft zipcode  beds state  \\\n",
       "130554  Total interior livable area: 5,905 sqft   20003  5 bd    MA   \n",
       "\n",
       "           mls-id  PrivatePool MlsId      target  \n",
       "130554  A10761803         True   NaN  $1,650,000  "
      ]
     },
     "execution_count": 188,
     "metadata": {},
     "output_type": "execute_result"
    }
   ],
   "source": [
    "df[df['city'].isna()]"
   ]
  },
  {
   "cell_type": "markdown",
   "metadata": {},
   "source": [
    "Один объект имеет несоответсвие индекса и штата, также в признаке **street** указано что-то странное. Удалим его:"
   ]
  },
  {
   "cell_type": "code",
   "execution_count": 189,
   "metadata": {},
   "outputs": [
    {
     "name": "stdout",
     "output_type": "stream",
     "text": [
      "колличество пропусков в признаке city:0\n"
     ]
    }
   ],
   "source": [
    "df = df.drop([130554])\n",
    "print(f'колличество пропусков в признаке city:{df.city.isna().sum()}')"
   ]
  },
  {
   "cell_type": "markdown",
   "metadata": {},
   "source": [
    "Приведем признак к нижнему регистру:"
   ]
  },
  {
   "cell_type": "code",
   "execution_count": 190,
   "metadata": {},
   "outputs": [],
   "source": [
    "df['city'] = df['city'].str.lower()"
   ]
  },
  {
   "cell_type": "markdown",
   "metadata": {},
   "source": [
    "### Признак Status"
   ]
  },
  {
   "cell_type": "markdown",
   "metadata": {},
   "source": [
    "Признак **Status** содержит информацию о статусе продажи объекта. Посмотрим на количество уникальных значений, пропусков:"
   ]
  },
  {
   "cell_type": "code",
   "execution_count": 191,
   "metadata": {},
   "outputs": [
    {
     "name": "stdout",
     "output_type": "stream",
     "text": [
      "количество пропусков:39917\n",
      "количество уникальных значений:159\n",
      "распределение значений признака:\n",
      "for sale                156058\n",
      "Active                  105207\n",
      "For sale                 43463\n",
      "foreclosure               6425\n",
      "New construction          5474\n",
      "                         ...  \n",
      "Contingent   No Show         1\n",
      "Coming soon: Oct 24.         1\n",
      "Coming soon: Oct 21.         1\n",
      "Coming soon: Nov 14.         1\n",
      "Coming soon: Dec 23.         1\n",
      "Name: status, Length: 159, dtype: int64\n"
     ]
    }
   ],
   "source": [
    "print(f'количество пропусков:{df.status.isna().sum()}\\n'\n",
    "      f'количество уникальных значений:{df.status.nunique()}\\n'\n",
    "      f'распределение значений признака:\\n{df.status.value_counts()}')"
   ]
  },
  {
   "cell_type": "code",
   "execution_count": 192,
   "metadata": {},
   "outputs": [
    {
     "name": "stdout",
     "output_type": "stream",
     "text": [
      "уникальные значения:[' / auction' 'A Active' 'Accepted Offer' 'Accepting backups' 'Active'\n",
      " 'Active - Auction' 'Active - Contingent' 'Active Backup'\n",
      " 'Active Contingency' 'Active Contingent' 'Active Option'\n",
      " 'Active Option Contract' 'Active Under Contract'\n",
      " 'Active With Contingencies' 'Active With Offer' 'Active with Contract'\n",
      " 'Active/Contingent' 'Apartment for rent' 'Auction' 'Auction - Active'\n",
      " 'Back On Market' 'Back on Market' 'Backup' 'Backup Contract' 'C'\n",
      " 'C Continue Show' 'CT Insp - Inspection Contingency' 'Closed'\n",
      " 'Coming soon: Dec 1.' 'Coming soon: Dec 10.' 'Coming soon: Dec 11.'\n",
      " 'Coming soon: Dec 12.' 'Coming soon: Dec 13.' 'Coming soon: Dec 14.'\n",
      " 'Coming soon: Dec 15.' 'Coming soon: Dec 16.' 'Coming soon: Dec 18.'\n",
      " 'Coming soon: Dec 2.' 'Coming soon: Dec 20.' 'Coming soon: Dec 23.'\n",
      " 'Coming soon: Dec 24.' 'Coming soon: Dec 25.' 'Coming soon: Dec 27.'\n",
      " 'Coming soon: Dec 3.' 'Coming soon: Dec 4.' 'Coming soon: Dec 5.'\n",
      " 'Coming soon: Dec 6.' 'Coming soon: Dec 7.' 'Coming soon: Dec 9.'\n",
      " 'Coming soon: Nov 11.' 'Coming soon: Nov 12.' 'Coming soon: Nov 13.'\n",
      " 'Coming soon: Nov 14.' 'Coming soon: Nov 17.' 'Coming soon: Nov 19.'\n",
      " 'Coming soon: Nov 21.' 'Coming soon: Nov 22.' 'Coming soon: Nov 23.'\n",
      " 'Coming soon: Nov 25.' 'Coming soon: Nov 26.' 'Coming soon: Nov 27.'\n",
      " 'Coming soon: Nov 28.' 'Coming soon: Nov 29.' 'Coming soon: Nov 30.'\n",
      " 'Coming soon: Nov 5.' 'Coming soon: Nov 8.' 'Coming soon: Oct 21.'\n",
      " 'Coming soon: Oct 24.' 'Coming soon: Oct 29.' 'Coming soon: Oct 30.'\n",
      " 'Conditional Contract' 'Condo for rent' 'Conting Accpt Backups'\n",
      " 'Contingency 48 Hr (+/ )' 'Contingency Contract' 'Contingent'\n",
      " 'Contingent   Foreclosure' 'Contingent   No Show' 'Contingent   Release'\n",
      " 'Contingent   Show' 'Contingent - Financing' 'Contingent - Sale of Home'\n",
      " 'Contingent Escape' 'Contingent Finance And Inspection'\n",
      " 'Contingent Finance and Inspection' 'Contingent Lien Holder Release'\n",
      " 'Contingent Show' 'Contingent Take Backup' 'Contract'\n",
      " 'Contract Contingent On Buyer Sale' 'Contract P' 'Ct'\n",
      " 'Due Diligence Period' 'For Sale' 'For sale' 'Foreclosed' 'Foreclosure'\n",
      " 'Lease/Purchase' 'Lease/Purchase Pending' 'Listing Extended' 'New'\n",
      " 'New construction' 'Offer Pending Signature' 'Option Contract'\n",
      " 'Option Pending' 'P' 'P Pending Sale' 'Pending'\n",
      " 'Pending   Continue To Show' 'Pending   Continue To Show   Financing'\n",
      " 'Pending (Do Not Show)' 'Pending - Backup Offer Requested'\n",
      " 'Pending - Continue to Show' 'Pending - Taking Backups' 'Pending Ab'\n",
      " 'Pending Backups Wanted' 'Pending Bring Backup'\n",
      " 'Pending Continue To Show' 'Pending Fe' 'Pending In' 'Pending Inspection'\n",
      " 'Pending Offer Approval' 'Pending Sale' 'Pending Sh'\n",
      " 'Pending Take Backups' 'Pending Taking Backups' 'Pending W/ Cont.'\n",
      " 'Pending W/Backup Wanted' 'Pending W/Escape Clause'\n",
      " 'Pending W/Insp Finance' 'Pending With Contingencies'\n",
      " 'Pending, Continue to Show' 'Pf' 'Pi' 'Pre-foreclosure'\n",
      " 'Pre-foreclosure / auction' 'Price Change' 'Ps' 'Re Activated'\n",
      " 'Reactivated' 'Sold: $15,000' 'Sold: $285,000' 'Temporary Active'\n",
      " 'U Under Contract' 'Uc Continue To Show' 'Under Contract'\n",
      " 'Under Contract   Showing' 'Under Contract - No Show'\n",
      " 'Under Contract - Show' 'Under Contract Backups' 'Under Contract Show'\n",
      " 'Under Contract Taking Back Up Offers' 'Under Contract W/ Bckp'\n",
      " 'Under contract' 'for rent' 'for sale' 'foreclosure' 'pending'\n",
      " 'recently sold' nan]\n",
      "\n"
     ]
    }
   ],
   "source": [
    "print(f\"уникальные значения:{df['status'].sort_values().unique()}\\n\")"
   ]
  },
  {
   "cell_type": "markdown",
   "metadata": {},
   "source": [
    "Видим, что некоторые значения дублируются (различаются сокращением, регистром), так же присутствует признак *Coming soon*. Пропуски заменим на *No info*. Выполним необходимые преобразования:"
   ]
  },
  {
   "cell_type": "code",
   "execution_count": 193,
   "metadata": {},
   "outputs": [],
   "source": [
    "#нормализуем регистра\n",
    "df['status'] = df['status'].str.lower()\n",
    "#словарь синонимов\n",
    "stasus_synonims = {\n",
    "    'pending':['option pending' ,  'pending (do not show)', 'pending ab',  'pending fe', 'pending offer approval',  'pending sh', 'pending w/escape clause', 'p', 'pending'],\n",
    "    \n",
    "    'pending Continue To Show':['pending   continue to show', 'pending - continue to show', 'pending continue to show', 'pending, continue to show', 'pending   continue to show   financing'],\n",
    "      \n",
    "    'Pending With Contingencies':['pending with contingencies','pending w/ cont.'],\n",
    "    \n",
    "    'Pending Inspection':['pending inspection', 'pending w/insp finance', 'pending in', 'pi'],\n",
    "    \n",
    "    'Pending Sale':['pending sale', 'p pending sale'],\n",
    "    \n",
    "    'Pending Taking Backups':['pending taking backups', 'pending - paking backups', 'pending bring backup', 'pending - backup offer requested','pending backups wanted', 'pending take backups', 'pending w/backup wanted'],\n",
    "    \n",
    "    'auction':[' / auction', 'a active', 'active', 'active - auction', 'auction - active', 'auction'],\n",
    "    \n",
    "    'closed':['c', 'closed'],  \n",
    "    \n",
    "    'Coming soon: Dec':['coming soon: dec 1.', 'coming soon: dec 10.', 'coming soon: dec 11.', 'coming soon: dec 12.', 'coming soon: dec 13.', 'coming soon: dec 14.',\n",
    "                        'coming soon: dec 15.', 'coming soon: dec 16.', 'coming soon: dec 18.', 'coming soon: dec 2.', 'coming soon: dec 20.', 'coming soon: dec 23.',\n",
    "                        'coming soon: dec 24.', 'coming soon: dec 25.', 'coming soon: dec 27.', 'coming soon: dec 3.', 'coming soon: dec 4.', 'coming soon: dec 5.',\n",
    "                        'Coming soon: Dec 6.', 'Coming soon: Dec 7.', 'Coming soon: Dec 9.'],\n",
    "    \n",
    "    'Coming soon: Nov':['coming soon: nov 11.', 'coming soon: nov 12.', 'coming soon: nov 13.', 'coming soon: nov 14.', 'coming soon: nov 17.', 'coming soon: nov 19.',\n",
    "                        'coming soon: nov 21.', 'coming soon: nov 22.', 'coming soon: nov 23.', 'coming soon: nov 25.', 'coming soon: nov 26.', 'coming soon: nov 27.',\n",
    "                        'coming soon: nov 28.', 'coming soon: nov 29.', 'coming soon: nov 30.', 'coming soon: nov 5.', 'coming soon: nov 8.'],\n",
    "    \n",
    "    'Coming soon: Oct':['coming soon: oct 21.', 'coming soon: oct 24.', 'coming soon: oct 29.', 'coming soon: oct 30.'], \n",
    "    \n",
    "    'Under Contract':['under contract', 'under contract'],\n",
    "    \n",
    "    'Under Contract Backups':['under contract backups', 'under contract taking back up offers', 'under contract w/ bckp'],\n",
    "    \n",
    "    'Under Contract Showing':['under contract   showing', 'uc continue to show', 'under contract - show',  'under contract show'],\n",
    "    \n",
    "    'Pre-foreclosure':[ 'pre-foreclosure', 'pf']\n",
    "    \n",
    "    }\n",
    "#функция замены синонимов\n",
    "def status_rename(value):\n",
    "  for key, val in stasus_synonims.items():\n",
    "    if value in val:\n",
    "      return key\n",
    "  return value\n",
    "#заменяем синонимы\n",
    "df['status'] = df['status'].apply(status_rename)\n",
    "#заменяем пропуски на No info\n",
    "df['status'] = df['status'].fillna('No info')"
   ]
  },
  {
   "cell_type": "markdown",
   "metadata": {},
   "source": [
    "Смотрим на результаты после преобразования:"
   ]
  },
  {
   "cell_type": "code",
   "execution_count": 194,
   "metadata": {},
   "outputs": [
    {
     "name": "stdout",
     "output_type": "stream",
     "text": [
      "количество пропусков:0\n",
      "количество уникальных значений:83\n",
      "распределение значений признака:\n",
      "for sale                 199523\n",
      "auction                  107160\n",
      "No info                   39917\n",
      "foreclosure                6768\n",
      "pending                    6423\n",
      "                          ...  \n",
      "conting accpt backups         1\n",
      "contingent   no show          1\n",
      "conditional contract          1\n",
      "contract                      1\n",
      "backup                        1\n",
      "Name: status, Length: 83, dtype: int64\n"
     ]
    }
   ],
   "source": [
    "print(f'количество пропусков:{df.status.isna().sum()}\\n'\n",
    "      f'количество уникальных значений:{df.status.nunique()}\\n'\n",
    "      f'распределение значений признака:\\n{df.status.value_counts()}')"
   ]
  },
  {
   "cell_type": "markdown",
   "metadata": {},
   "source": [
    "### Признак baths"
   ]
  },
  {
   "cell_type": "markdown",
   "metadata": {},
   "source": [
    "Признак **baths** демонстрирует количество ванных комнат. Посмотрим на количество уникальных значений и пропусков:"
   ]
  },
  {
   "cell_type": "code",
   "execution_count": 195,
   "metadata": {},
   "outputs": [
    {
     "name": "stdout",
     "output_type": "stream",
     "text": [
      "количество пропусков:106308\n",
      "количество уникальных значений:229\n",
      "распределение значений признака:\n",
      "2 Baths       52458\n",
      "3 Baths       35503\n",
      "2             20452\n",
      "2.0           16575\n",
      "4 Baths       14763\n",
      "              ...  \n",
      "4.75 Baths        1\n",
      "5.25 Baths        1\n",
      "41.0              1\n",
      "1.8 Baths         1\n",
      "44.0              1\n",
      "Name: baths, Length: 229, dtype: int64\n"
     ]
    }
   ],
   "source": [
    "print(f'количество пропусков:{df.baths.isna().sum()}\\n'\n",
    "      f'количество уникальных значений:{df.baths.nunique()}\\n'\n",
    "      f'распределение значений признака:\\n{df.baths.value_counts()}')"
   ]
  },
  {
   "cell_type": "code",
   "execution_count": 196,
   "metadata": {},
   "outputs": [
    {
     "data": {
      "text/plain": [
       "other                 39846\n",
       "land                  27147\n",
       "single_family_home    19121\n",
       "condo                 11433\n",
       "multi_family_home      2316\n",
       "modern                 2278\n",
       "townhouse              1556\n",
       "ranch                  1518\n",
       "apartment               701\n",
       "mobile_home             353\n",
       "historical               32\n",
       "miscellaneous             7\n",
       "Name: propertyType, dtype: int64"
      ]
     },
     "execution_count": 196,
     "metadata": {},
     "output_type": "execute_result"
    }
   ],
   "source": [
    "df[df.baths.isna()].propertyType.value_counts()"
   ]
  },
  {
   "cell_type": "markdown",
   "metadata": {},
   "source": [
    "Посмотрим на значения представленные в признаке, интерпретируем нетепичные значения:"
   ]
  },
  {
   "cell_type": "code",
   "execution_count": 197,
   "metadata": {},
   "outputs": [
    {
     "data": {
      "text/html": [
       "<div>\n",
       "<style scoped>\n",
       "    .dataframe tbody tr th:only-of-type {\n",
       "        vertical-align: middle;\n",
       "    }\n",
       "\n",
       "    .dataframe tbody tr th {\n",
       "        vertical-align: top;\n",
       "    }\n",
       "\n",
       "    .dataframe thead th {\n",
       "        text-align: right;\n",
       "    }\n",
       "</style>\n",
       "<table border=\"1\" class=\"dataframe\">\n",
       "  <thead>\n",
       "    <tr style=\"text-align: right;\">\n",
       "      <th></th>\n",
       "      <th>status</th>\n",
       "      <th>propertyType</th>\n",
       "      <th>street</th>\n",
       "      <th>baths</th>\n",
       "      <th>homeFacts</th>\n",
       "      <th>fireplace</th>\n",
       "      <th>city</th>\n",
       "      <th>schools</th>\n",
       "      <th>sqft</th>\n",
       "      <th>zipcode</th>\n",
       "      <th>beds</th>\n",
       "      <th>state</th>\n",
       "      <th>mls-id</th>\n",
       "      <th>PrivatePool</th>\n",
       "      <th>MlsId</th>\n",
       "      <th>target</th>\n",
       "    </tr>\n",
       "  </thead>\n",
       "  <tbody>\n",
       "    <tr>\n",
       "      <th>24724</th>\n",
       "      <td>auction</td>\n",
       "      <td>multi_family_home</td>\n",
       "      <td>1811 beechwood ave</td>\n",
       "      <td>1-0 / 1-0 / 1</td>\n",
       "      <td>{'atAGlanceFacts': [{'factValue': '1920', 'fac...</td>\n",
       "      <td>False</td>\n",
       "      <td>nashville</td>\n",
       "      <td>[{'rating': ['6', '5', '3', '4', '5', 'NR', 'N...</td>\n",
       "      <td>2932</td>\n",
       "      <td>37212</td>\n",
       "      <td>3.0</td>\n",
       "      <td>TN</td>\n",
       "      <td>NaN</td>\n",
       "      <td>False</td>\n",
       "      <td>2081563</td>\n",
       "      <td>$775,000</td>\n",
       "    </tr>\n",
       "    <tr>\n",
       "      <th>63510</th>\n",
       "      <td>auction</td>\n",
       "      <td>multi_family_home</td>\n",
       "      <td>321 larkin springs rd</td>\n",
       "      <td>116 / 116 / 116</td>\n",
       "      <td>{'atAGlanceFacts': [{'factValue': '2019', 'fac...</td>\n",
       "      <td>False</td>\n",
       "      <td>madison</td>\n",
       "      <td>[{'rating': ['1', 'NR', '3', '1', '2', '1', 'N...</td>\n",
       "      <td>99999</td>\n",
       "      <td>37115</td>\n",
       "      <td>NaN</td>\n",
       "      <td>TN</td>\n",
       "      <td>NaN</td>\n",
       "      <td>False</td>\n",
       "      <td>2051320</td>\n",
       "      <td>$1,600,000</td>\n",
       "    </tr>\n",
       "    <tr>\n",
       "      <th>85354</th>\n",
       "      <td>auction</td>\n",
       "      <td>multi_family_home</td>\n",
       "      <td>6511 robertson ave</td>\n",
       "      <td>3-1 / 2-2</td>\n",
       "      <td>{'atAGlanceFacts': [{'factValue': '2019', 'fac...</td>\n",
       "      <td>False</td>\n",
       "      <td>nashville</td>\n",
       "      <td>[{'rating': ['2', '4', '3', '3', '2', 'NR', 'N...</td>\n",
       "      <td>1939</td>\n",
       "      <td>37209</td>\n",
       "      <td>3.0</td>\n",
       "      <td>TN</td>\n",
       "      <td>NaN</td>\n",
       "      <td>False</td>\n",
       "      <td>2085088</td>\n",
       "      <td>$5,750,000</td>\n",
       "    </tr>\n",
       "    <tr>\n",
       "      <th>110090</th>\n",
       "      <td>auction</td>\n",
       "      <td>multi_family_home</td>\n",
       "      <td>3317 ezell rd</td>\n",
       "      <td>1 / 1 / 1 / 1</td>\n",
       "      <td>{'atAGlanceFacts': [{'factValue': '1950', 'fac...</td>\n",
       "      <td>False</td>\n",
       "      <td>nashville</td>\n",
       "      <td>[{'rating': ['2', '3', '2', '1', '2', '2', 'NR...</td>\n",
       "      <td>4408</td>\n",
       "      <td>37211</td>\n",
       "      <td>3.0</td>\n",
       "      <td>TN</td>\n",
       "      <td>NaN</td>\n",
       "      <td>False</td>\n",
       "      <td>2027355</td>\n",
       "      <td>$985,000</td>\n",
       "    </tr>\n",
       "    <tr>\n",
       "      <th>301145</th>\n",
       "      <td>auction</td>\n",
       "      <td>multi_family_home</td>\n",
       "      <td>214 3rd ave</td>\n",
       "      <td>2-1 / 2-1 / 1-1 / 1-1</td>\n",
       "      <td>{'atAGlanceFacts': [{'factValue': '1900', 'fac...</td>\n",
       "      <td>False</td>\n",
       "      <td>nashville</td>\n",
       "      <td>[{'rating': ['1', '2', '3', '1', '4', '10', 'N...</td>\n",
       "      <td>11740</td>\n",
       "      <td>37201</td>\n",
       "      <td>2.0</td>\n",
       "      <td>TN</td>\n",
       "      <td>NaN</td>\n",
       "      <td>False</td>\n",
       "      <td>2107281</td>\n",
       "      <td>$7,450,000</td>\n",
       "    </tr>\n",
       "    <tr>\n",
       "      <th>316452</th>\n",
       "      <td>auction</td>\n",
       "      <td>multi_family_home</td>\n",
       "      <td>126 welworth st</td>\n",
       "      <td>1 / 1-0 / 1-0 / 1-0</td>\n",
       "      <td>{'atAGlanceFacts': [{'factValue': '1966', 'fac...</td>\n",
       "      <td>False</td>\n",
       "      <td>madison</td>\n",
       "      <td>[{'rating': ['3', '2', '3', '1', '2', '1', 'NR...</td>\n",
       "      <td>1324</td>\n",
       "      <td>37115</td>\n",
       "      <td>2.0</td>\n",
       "      <td>TN</td>\n",
       "      <td>NaN</td>\n",
       "      <td>False</td>\n",
       "      <td>2094893</td>\n",
       "      <td>$2,250,000</td>\n",
       "    </tr>\n",
       "  </tbody>\n",
       "</table>\n",
       "</div>"
      ],
      "text/plain": [
       "         status       propertyType                 street  \\\n",
       "24724   auction  multi_family_home     1811 beechwood ave   \n",
       "63510   auction  multi_family_home  321 larkin springs rd   \n",
       "85354   auction  multi_family_home     6511 robertson ave   \n",
       "110090  auction  multi_family_home          3317 ezell rd   \n",
       "301145  auction  multi_family_home            214 3rd ave   \n",
       "316452  auction  multi_family_home        126 welworth st   \n",
       "\n",
       "                        baths  \\\n",
       "24724           1-0 / 1-0 / 1   \n",
       "63510         116 / 116 / 116   \n",
       "85354               3-1 / 2-2   \n",
       "110090          1 / 1 / 1 / 1   \n",
       "301145  2-1 / 2-1 / 1-1 / 1-1   \n",
       "316452    1 / 1-0 / 1-0 / 1-0   \n",
       "\n",
       "                                                homeFacts  fireplace  \\\n",
       "24724   {'atAGlanceFacts': [{'factValue': '1920', 'fac...      False   \n",
       "63510   {'atAGlanceFacts': [{'factValue': '2019', 'fac...      False   \n",
       "85354   {'atAGlanceFacts': [{'factValue': '2019', 'fac...      False   \n",
       "110090  {'atAGlanceFacts': [{'factValue': '1950', 'fac...      False   \n",
       "301145  {'atAGlanceFacts': [{'factValue': '1900', 'fac...      False   \n",
       "316452  {'atAGlanceFacts': [{'factValue': '1966', 'fac...      False   \n",
       "\n",
       "             city                                            schools   sqft  \\\n",
       "24724   nashville  [{'rating': ['6', '5', '3', '4', '5', 'NR', 'N...   2932   \n",
       "63510     madison  [{'rating': ['1', 'NR', '3', '1', '2', '1', 'N...  99999   \n",
       "85354   nashville  [{'rating': ['2', '4', '3', '3', '2', 'NR', 'N...   1939   \n",
       "110090  nashville  [{'rating': ['2', '3', '2', '1', '2', '2', 'NR...   4408   \n",
       "301145  nashville  [{'rating': ['1', '2', '3', '1', '4', '10', 'N...  11740   \n",
       "316452    madison  [{'rating': ['3', '2', '3', '1', '2', '1', 'NR...   1324   \n",
       "\n",
       "       zipcode beds state mls-id  PrivatePool    MlsId      target  \n",
       "24724    37212  3.0    TN    NaN        False  2081563    $775,000  \n",
       "63510    37115  NaN    TN    NaN        False  2051320  $1,600,000  \n",
       "85354    37209  3.0    TN    NaN        False  2085088  $5,750,000  \n",
       "110090   37211  3.0    TN    NaN        False  2027355    $985,000  \n",
       "301145   37201  2.0    TN    NaN        False  2107281  $7,450,000  \n",
       "316452   37115  2.0    TN    NaN        False  2094893  $2,250,000  "
      ]
     },
     "metadata": {},
     "output_type": "display_data"
    }
   ],
   "source": [
    "l=list(df['baths'].unique())\n",
    "#l\n",
    "selected_row = df[(df['baths'] == '1 / 1-0 / 1-0 / 1-0') | (df['baths'] == '2-1 / 2-1 / 1-1 / 1-1') | (df['baths'] == '1 / 1 / 1 / 1') | (df['baths'] == '3-1 / 2-2')\\\n",
    "    | (df['baths'] == '116 / 116 / 116') | (df['baths'] == '1-0 / 1-0 / 1')] \n",
    "\n",
    "display(selected_row)"
   ]
  },
  {
   "cell_type": "markdown",
   "metadata": {},
   "source": [
    "Видим, что через */* указывается этаж и количество ванных на этаж, в одном объекте указано *116 / 116 / 116* (63510). Объект 63510 оказался землей под строительство многоквартирного дома, возможно 116 это число предполагаемых квартир, может нет. Площадь этого объекта так же указана случайным набором цивф *99999*, лучше его удалить."
   ]
  },
  {
   "cell_type": "markdown",
   "metadata": {},
   "source": [
    "Видим, что в значениях много буквенных литералов, распределение пропусков сконцентрированно в типе имущества *other, land*. Уберем буквенные значения, заполним пропуски в *other, land, ranch, mobile_home* на 0, вместо прочерков поставим 0, в остальных значения проставим соответствующее значение, объект под индексом 63510 - удалим, переведем данные признака в тип *float*: "
   ]
  },
  {
   "cell_type": "code",
   "execution_count": 198,
   "metadata": {},
   "outputs": [],
   "source": [
    "#убираем буквенные литералы\n",
    "df['baths'] = df['baths'].str.replace('[a-zA-Z+:]','', regex=True)\n",
    "\n",
    "#заменяем значения \n",
    "df['baths'].replace(['1 / 1 / 1 / 1','2-1 / 2-1 / 1-1 / 1-1'],4,inplace=True)\n",
    "df['baths'].replace(['1-2 ','1-0 / 1-0 / 1','1 / 1-0 / 1-0 / 1-0'],1,inplace=True)\n",
    "df['baths'].replace('3-1 / 2-2',3,inplace=True)\n",
    "df['baths'].replace(['~','0 / 0','. . ','-- ','—',' ',''],0,inplace=True)\n",
    "df['baths'].replace(['7,500'], 7.5, inplace=True)\n",
    "df['baths'].replace(['5,000'], 5, inplace=True)\n",
    "df['baths'].replace(['3,500'], 3.5, inplace=True)\n",
    "df['baths'].replace(['2,750'], 2.75, inplace=True)\n",
    "df['baths'].replace(['2,250'], 2.25, inplace=True)\n",
    "df['baths'].replace(['1,250'], 1.25, inplace=True)\n",
    "df['baths'].replace(['1,500'], 1.5, inplace=True)\n",
    "df['baths'].replace(['4,000'], 4, inplace=True)\n",
    "df['baths'].replace(['2,000'], 2, inplace=True)\n",
    "df['baths'].replace(['3,000'], 3, inplace=True)\n",
    "df['baths'].replace(['2,500'], 2.5, inplace=True)\n",
    "df['baths'].replace(['1,000'], 1, inplace=True)\n",
    "df['baths'].replace(['1,750'], 1.75, inplace=True)\n",
    "\n",
    "\n",
    "#удаляем объект по индексу 63510\n",
    "df['baths'] = df['baths'].drop([63510])\n",
    "#заменяем NaN на 0\n",
    "df['baths'] = df['baths'].fillna(0)\n",
    "\n",
    "#переведем в тип float и округлим до целого\n",
    "df['baths'] = df['baths'].astype(float).round()\n",
    "\n"
   ]
  },
  {
   "cell_type": "markdown",
   "metadata": {},
   "source": [
    "Посмотрим на распределение нулевых значений:"
   ]
  },
  {
   "cell_type": "code",
   "execution_count": 199,
   "metadata": {},
   "outputs": [
    {
     "name": "stdout",
     "output_type": "stream",
     "text": [
      "Количество уникальных значений: 48\n",
      "\n",
      "Количество нулевых значений во всех объектах:29.62%\n",
      "Процент нулевых значений в объектах типа other, land, ranch: 19.37%\n",
      "Процент нулиеых значений в объектах не относящихся к типам other, land, ranch: 10.25%\n"
     ]
    }
   ],
   "source": [
    "\n",
    "selected_lands = df[(df['baths'] == 0) & ((df['propertyType'] == 'other') | (df['propertyType'] == 'land') | (df['propertyType'] == 'ranch'))]\n",
    "\n",
    "percent_lands = len(selected_lands) / len(df) * 100\n",
    "\n",
    "selected_no_lands = df[(df['baths'] == 0) & ~(df['propertyType'].isin(['other', 'land', 'ranch']))]\n",
    "\n",
    "percent_no_lands = len(selected_no_lands) / len(df) * 100\n",
    "\n",
    "print( f\"Количество уникальных значений: {df.baths.nunique()}\\n\")\n",
    "print(f\"Количество нулевых значений во всех объектах:{percent_lands+percent_no_lands:.2f}%\")\n",
    "print(f\"Процент нулевых значений в объектах типа other, land, ranch: {percent_lands:.2f}%\")\n",
    "print(f\"Процент нулиеых значений в объектах не относящихся к типам other, land, ranch: {percent_no_lands:.2f}%\")"
   ]
  },
  {
   "cell_type": "markdown",
   "metadata": {},
   "source": [
    "Таким образом у нас 29.62% объектов не имеют ванных комнат. Из их 19.37% объекты относящиеся к типу *другое* либо одному из типов земель, что представляется логиным. В остальных типах 10.25% объектов без ванной комнаты, что возможно."
   ]
  },
  {
   "cell_type": "markdown",
   "metadata": {},
   "source": [
    "### Признак sqft"
   ]
  },
  {
   "cell_type": "markdown",
   "metadata": {},
   "source": [
    "Признак **sqft** содержит информацию о площади объекта.Посмотрим на признак:"
   ]
  },
  {
   "cell_type": "code",
   "execution_count": 200,
   "metadata": {},
   "outputs": [
    {
     "name": "stdout",
     "output_type": "stream",
     "text": [
      "Количество уникальных значений:25404\n",
      "количество пропусков:40550\n",
      "Количество пропусков в процентном отношении:10.75%\n",
      "распределение значений:\n",
      "0                                          11854\n",
      "1,200 sqft                                   839\n",
      "1,000 sqft                                   654\n",
      "1,100 sqft                                   573\n",
      "1,800 sqft                                   563\n",
      "                                           ...  \n",
      "11,491                                         1\n",
      "9,914                                          1\n",
      "Total interior livable area: 3,055 sqft        1\n",
      "5,177                                          1\n",
      "Total interior livable area: 4,615 sqft        1\n",
      "Name: sqft, Length: 25404, dtype: int64\n"
     ]
    }
   ],
   "source": [
    "print(f\"Количество уникальных значений:{df['sqft'].nunique()}\")\n",
    "print(f\"количество пропусков:{df['sqft'].isna().sum()}\")\n",
    "print(f\"Количество пропусков в процентном отношении:{round(df['sqft'].isna().sum()/len(df)*100,2)}%\")\n",
    "print(f\"распределение значений:\\n{df['sqft'].value_counts()}\")"
   ]
  },
  {
   "cell_type": "markdown",
   "metadata": {},
   "source": [
    "В признаке присутствуют буквенные значения и пропуски, уберем их, переведем признак в int:"
   ]
  },
  {
   "cell_type": "code",
   "execution_count": 201,
   "metadata": {},
   "outputs": [],
   "source": [
    "#выбираем все значения не nan\n",
    "df_sqft = df.sqft[df.sqft.notna()]\n",
    "#выбираем все \"числовые\" значения\n",
    "df_sqft = df_sqft.str.findall(r\"\\d+\")\n",
    "#преобразуем \n",
    "df_sqft = df_sqft.apply(lambda x: ''.join(x))\n",
    "#заполняем значения признака sqft получившимися значениями\n",
    "df.loc[df.sqft.notna(), 'sqft']=df_sqft\n",
    "#меняем пропуски на 0\n",
    "df['sqft'] = df['sqft'].fillna(0)\n",
    "#заменим пустые строки на 0\n",
    "df.loc[df.sqft=='','sqft'] = 0\n",
    "#приобразуем в тим int\n",
    "df.sqft = df.sqft.astype(int)"
   ]
  },
  {
   "cell_type": "code",
   "execution_count": 202,
   "metadata": {},
   "outputs": [
    {
     "name": "stdout",
     "output_type": "stream",
     "text": [
      "Количество уникальных значений:9897\n",
      "количество пропусков:0\n",
      "Количество пропусков в процентном отношении:0.0%\n",
      "распределение значений:\n",
      "0          53224\n",
      "1200        1426\n",
      "1000        1027\n",
      "1500        1014\n",
      "1800         988\n",
      "           ...  \n",
      "5728968        1\n",
      "12503          1\n",
      "8815           1\n",
      "15391          1\n",
      "13870          1\n",
      "Name: sqft, Length: 9897, dtype: int64\n"
     ]
    }
   ],
   "source": [
    "print(f\"Количество уникальных значений:{df['sqft'].nunique()}\")\n",
    "print(f\"количество пропусков:{df['sqft'].isna().sum()}\")\n",
    "print(f\"Количество пропусков в процентном отношении:{round(df['sqft'].isna().sum()/len(df)*100,2)}%\")\n",
    "print(f\"распределение значений:\\n{df['sqft'].value_counts()}\")"
   ]
  },
  {
   "cell_type": "markdown",
   "metadata": {},
   "source": [
    "Посмотрем на распределение нулей по типам объектов:"
   ]
  },
  {
   "cell_type": "code",
   "execution_count": 203,
   "metadata": {},
   "outputs": [
    {
     "data": {
      "text/html": [
       "<div>\n",
       "<style scoped>\n",
       "    .dataframe tbody tr th:only-of-type {\n",
       "        vertical-align: middle;\n",
       "    }\n",
       "\n",
       "    .dataframe tbody tr th {\n",
       "        vertical-align: top;\n",
       "    }\n",
       "\n",
       "    .dataframe thead th {\n",
       "        text-align: right;\n",
       "    }\n",
       "</style>\n",
       "<table border=\"1\" class=\"dataframe\">\n",
       "  <thead>\n",
       "    <tr style=\"text-align: right;\">\n",
       "      <th></th>\n",
       "      <th>scope</th>\n",
       "      <th>single_family_home</th>\n",
       "      <th>condo</th>\n",
       "      <th>other</th>\n",
       "      <th>land</th>\n",
       "      <th>townhouse</th>\n",
       "      <th>multi_family_home</th>\n",
       "      <th>mobile_home</th>\n",
       "      <th>modern</th>\n",
       "      <th>ranch</th>\n",
       "      <th>apartment</th>\n",
       "      <th>miscellaneous</th>\n",
       "      <th>historical</th>\n",
       "    </tr>\n",
       "  </thead>\n",
       "  <tbody>\n",
       "    <tr>\n",
       "      <th>0</th>\n",
       "      <td>in</td>\n",
       "      <td>1.74</td>\n",
       "      <td>3.56</td>\n",
       "      <td>36.53</td>\n",
       "      <td>86.94</td>\n",
       "      <td>1.90</td>\n",
       "      <td>7.22</td>\n",
       "      <td>6.42</td>\n",
       "      <td>0.98</td>\n",
       "      <td>2.02</td>\n",
       "      <td>3.59</td>\n",
       "      <td>4.17</td>\n",
       "      <td>6.25</td>\n",
       "    </tr>\n",
       "    <tr>\n",
       "      <th>1</th>\n",
       "      <td>all</td>\n",
       "      <td>0.90</td>\n",
       "      <td>0.54</td>\n",
       "      <td>5.00</td>\n",
       "      <td>7.25</td>\n",
       "      <td>0.09</td>\n",
       "      <td>0.24</td>\n",
       "      <td>0.06</td>\n",
       "      <td>0.01</td>\n",
       "      <td>0.01</td>\n",
       "      <td>0.01</td>\n",
       "      <td>0.00</td>\n",
       "      <td>0.00</td>\n",
       "    </tr>\n",
       "  </tbody>\n",
       "</table>\n",
       "</div>"
      ],
      "text/plain": [
       "  scope  single_family_home  condo  other   land  townhouse  \\\n",
       "0    in                1.74   3.56  36.53  86.94       1.90   \n",
       "1   all                0.90   0.54   5.00   7.25       0.09   \n",
       "\n",
       "   multi_family_home  mobile_home  modern  ranch  apartment  miscellaneous  \\\n",
       "0               7.22         6.42    0.98   2.02       3.59           4.17   \n",
       "1               0.24         0.06    0.01   0.01       0.01           0.00   \n",
       "\n",
       "   historical  \n",
       "0        6.25  \n",
       "1        0.00  "
      ]
     },
     "metadata": {},
     "output_type": "display_data"
    },
    {
     "name": "stdout",
     "output_type": "stream",
     "text": [
      "Количество нулевых значений признака sqft от общего числа строк:14.11%\n"
     ]
    }
   ],
   "source": [
    "selected_sfh = df[(df['sqft'] == 0) & (df['propertyType'] == 'single_family_home')]\n",
    "percent_sfh = len(selected_sfh)/len(df)*100\n",
    "single_family_home = df[(df['propertyType'] == 'single_family_home')]\n",
    "percent_single_family_home = len(selected_sfh)/len(single_family_home)*100\n",
    "\n",
    "selected_condo = df[(df['sqft'] == 0) & (df['propertyType'] == 'condo')]\n",
    "percent_c = len(selected_condo)/len(df)*100\n",
    "condo = df[(df['propertyType'] == 'condo')]\n",
    "percent_condo = len(selected_condo)/len(condo)*100\n",
    "\n",
    "selected_other = df[(df['sqft'] == 0) & (df['propertyType'] == 'other')]\n",
    "percent_oth = len(selected_other)/len(df)*100\n",
    "other = df[(df['propertyType'] == 'other')]\n",
    "percent_other = len(selected_other)/len(other)*100\n",
    "\n",
    "selected_land = df[(df['sqft'] == 0) & (df['propertyType'] == 'land')]\n",
    "percent_la = len(selected_land)/len(df)*100\n",
    "land = df[(df['propertyType'] == 'land')]\n",
    "percent_land = len(selected_land)/len(land)*100\n",
    "\n",
    "selected_townhouse = df[(df['sqft'] == 0) & (df['propertyType'] == 'townhouse')]\n",
    "percent_tow = len(selected_townhouse)/len(df)*100\n",
    "townhouse = df[(df['propertyType'] == 'townhouse')]\n",
    "percent_townhouse = len(selected_townhouse)/len(townhouse)*100\n",
    "\n",
    "selected_multi_family_home = df[(df['sqft'] == 0) & (df['propertyType'] == 'multi_family_home')]\n",
    "percent_multi = len(selected_multi_family_home)/len(df)*100\n",
    "multi_family_home = df[(df['propertyType'] == 'multi_family_home')]\n",
    "percent_multi_family_home = len(selected_multi_family_home)/len(multi_family_home)*100\n",
    "\n",
    "selected_mobile_home = df[(df['sqft'] == 0) & (df['propertyType'] == 'mobile_home')]\n",
    "percent_mobile = len(selected_mobile_home)/len(df)*100\n",
    "mobile_home = df[(df['propertyType'] == 'mobile_home')]\n",
    "percent_mobile_home = len(selected_mobile_home)/len(mobile_home)*100\n",
    "\n",
    "selected_modern = df[(df['sqft'] == 0) & (df['propertyType'] == 'modern')]\n",
    "percent_mod = len(selected_modern)/len(df)*100\n",
    "modern = df[(df['propertyType'] == 'modern')]\n",
    "percent_modern = len(selected_modern)/len(modern)*100\n",
    "\n",
    "selected_ranch = df[(df['sqft'] == 0) & (df['propertyType'] == 'ranch')]\n",
    "percent_ran = len(selected_ranch)/len(df)*100\n",
    "ranch = df[(df['propertyType'] == 'ranch')]\n",
    "percent_ranch = len(selected_ranch)/len(ranch)*100\n",
    "\n",
    "selected_apartment = df[(df['sqft'] == 0) & (df['propertyType'] == 'apartment')]\n",
    "percent_apart = len(selected_apartment)/len(df)*100\n",
    "apartment = df[(df['propertyType'] == 'apartment')]\n",
    "percent_apartment = len(selected_apartment)/len(apartment)*100\n",
    "\n",
    "selected_miscellaneous = df[(df['sqft'] == 0) & (df['propertyType'] == 'miscellaneous')]\n",
    "percent_misc = len(selected_miscellaneous)/len(df)*100\n",
    "miscellaneous = df[(df['propertyType'] == 'miscellaneous')]\n",
    "percent_miscellaneous = len(selected_miscellaneous)/len(miscellaneous)*100\n",
    "\n",
    "selected_historical = df[(df['sqft'] == 0) & (df['propertyType'] == 'historical')]\n",
    "percent_hist = len(selected_miscellaneous)/len(df)*100\n",
    "historical = df[(df['propertyType'] == 'historical')]\n",
    "percent_historical = len(selected_miscellaneous)/len(historical)*100\n",
    "\n",
    "type_zero = round((len(df[(df['sqft']==0)])/len(df)*100),2)\n",
    "\n",
    "d = {'scope':['in', 'all'], 'single_family_home':[(round(percent_single_family_home,2)),(round(percent_sfh,2))],\n",
    "     'condo':[(round(percent_condo,2)),(round(percent_c,2))],\n",
    "     'other':[(round(percent_other,2)),(round(percent_oth,2))],\n",
    "     'land':[(round(percent_land,2)),(round(percent_la,2))],\n",
    "     'townhouse':[(round(percent_townhouse,2)),(round(percent_tow,2))],\n",
    "     'multi_family_home':[(round(percent_multi_family_home,2)),(round(percent_multi,2))],\n",
    "     'mobile_home':[(round(percent_mobile_home,2)),(round(percent_mobile,2))],\n",
    "     'modern':[(round(percent_modern,2)),(round(percent_mod,2))],\n",
    "     'ranch':[(round(percent_ranch,2)),(round(percent_ran,2))],\n",
    "     'apartment':[(round(percent_apartment,2)),(round(percent_apart,2))],\n",
    "     'miscellaneous':[(round(percent_miscellaneous,2)),(round(percent_misc,2))],\n",
    "     'historical':[(round(percent_historical,2)),(round(percent_hist,2))]}\n",
    "scope = pd.DataFrame(data=d)\n",
    "\n",
    "display(scope)\n",
    "print(f\"Количество нулевых значений признака sqft от общего числа строк:{type_zero}%\")\n"
   ]
  },
  {
   "cell_type": "markdown",
   "metadata": {},
   "source": [
    "Значительная часть находится в значениях other,land (12.25% от 14.11% нулей в признаке). Значения other и land имеют большое количество нулевых значения, что скажется на качестве предсказания по этим типам объекта. В значениях обозначающих типы строений только 2.14% нулевых значений, так что пока оставим как есть."
   ]
  },
  {
   "cell_type": "markdown",
   "metadata": {},
   "source": [
    "### Признак beds"
   ]
  },
  {
   "cell_type": "markdown",
   "metadata": {},
   "source": [
    "Признак **beds** указывает на количество спален в объекте. Посмотри на него:"
   ]
  },
  {
   "cell_type": "code",
   "execution_count": 204,
   "metadata": {},
   "outputs": [
    {
     "name": "stdout",
     "output_type": "stream",
     "text": [
      "Количество уникальных значений:1184\n",
      "количество пропусков:91254\n",
      "Количество пропусков в процентном отношении:24.2%\n",
      "распределение значений:\n",
      "3 Beds         53454\n",
      "4 Beds         35412\n",
      "3              31405\n",
      "2 Beds         26355\n",
      "4              20030\n",
      "               ...  \n",
      "8,023 sqft         1\n",
      "10,193 sqft        1\n",
      "8.93 acres         1\n",
      "5,510 sqft         1\n",
      "8,479 sqft         1\n",
      "Name: beds, Length: 1184, dtype: int64\n"
     ]
    }
   ],
   "source": [
    "print(f\"Количество уникальных значений:{df['beds'].nunique()}\")\n",
    "print(f\"количество пропусков:{df['beds'].isna().sum()}\")\n",
    "print(f\"Количество пропусков в процентном отношении:{round(df['beds'].isna().sum()/len(df)*100,2)}%\")\n",
    "print(f\"распределение значений:\\n{df['beds'].value_counts()}\")"
   ]
  },
  {
   "cell_type": "markdown",
   "metadata": {},
   "source": [
    "Посмотрим на распределение пропусков по типу объекта:"
   ]
  },
  {
   "cell_type": "code",
   "execution_count": 205,
   "metadata": {},
   "outputs": [
    {
     "data": {
      "text/plain": [
       "other                 36492\n",
       "land                  28854\n",
       "condo                 10739\n",
       "single_family_home     8349\n",
       "modern                 2265\n",
       "multi_family_home      1648\n",
       "ranch                  1508\n",
       "apartment               623\n",
       "townhouse               571\n",
       "mobile_home             171\n",
       "historical               34\n",
       "Name: propertyType, dtype: int64"
      ]
     },
     "execution_count": 205,
     "metadata": {},
     "output_type": "execute_result"
    }
   ],
   "source": [
    "df[df.beds.isna()].propertyType.value_counts()"
   ]
  },
  {
   "cell_type": "code",
   "execution_count": 206,
   "metadata": {},
   "outputs": [],
   "source": [
    "l = list(df['beds'].unique())\n",
    "#l"
   ]
  },
  {
   "cell_type": "markdown",
   "metadata": {},
   "source": [
    "В признаке присутствует множестно данных отличных от количества кроватей, давайте посмотрим на количество значений с меткой *sqft* и *acres*, возможно ими можно заполнить пропуски в признаке **sqft**:"
   ]
  },
  {
   "cell_type": "code",
   "execution_count": 207,
   "metadata": {},
   "outputs": [
    {
     "data": {
      "text/plain": [
       "False    375542\n",
       "True       1592\n",
       "Name: beds, dtype: int64"
      ]
     },
     "execution_count": 207,
     "metadata": {},
     "output_type": "execute_result"
    }
   ],
   "source": [
    "df['beds'].str.endswith('acres',na=False).value_counts()"
   ]
  },
  {
   "cell_type": "code",
   "execution_count": 208,
   "metadata": {},
   "outputs": [
    {
     "data": {
      "text/plain": [
       "False    375699\n",
       "True       1435\n",
       "Name: beds, dtype: int64"
      ]
     },
     "execution_count": 208,
     "metadata": {},
     "output_type": "execute_result"
    }
   ],
   "source": [
    "df['beds'].str.endswith('sqft',na=False).value_counts()"
   ]
  },
  {
   "cell_type": "markdown",
   "metadata": {},
   "source": [
    "Искомых значений оказалось незначительное количество. Обилие пропусков, мусорных данных делает признак **beds** бесполезным - удалим его:"
   ]
  },
  {
   "cell_type": "code",
   "execution_count": 209,
   "metadata": {},
   "outputs": [],
   "source": [
    "df = df.drop('beds', axis=1)"
   ]
  },
  {
   "cell_type": "markdown",
   "metadata": {},
   "source": [
    "### Признак homeFacts"
   ]
  },
  {
   "cell_type": "markdown",
   "metadata": {},
   "source": [
    "Признак **homeFacts** содержит сведения о строительстве объекта. Посмотрим на него:"
   ]
  },
  {
   "cell_type": "code",
   "execution_count": 210,
   "metadata": {},
   "outputs": [
    {
     "name": "stdout",
     "output_type": "stream",
     "text": [
      "Количество уникальных значений:321008\n",
      "количество пропусков:0\n",
      "Количество пропусков в процентном отношении:0.0%\n",
      "распределение значений:\n",
      "{'atAGlanceFacts': [{'factValue': '', 'factLabel': 'Year built'}, {'factValue': '', 'factLabel': 'Remodeled year'}, {'factValue': '', 'factLabel': 'Heating'}, {'factValue': '', 'factLabel': 'Cooling'}, {'factValue': '', 'factLabel': 'Parking'}, {'factValue': '—', 'factLabel': 'lotsize'}, {'factValue': None, 'factLabel': 'Price/sqft'}]}                                                       7174\n",
      "{'atAGlanceFacts': [{'factValue': None, 'factLabel': 'Year built'}, {'factValue': None, 'factLabel': 'Remodeled year'}, {'factValue': None, 'factLabel': 'Heating'}, {'factValue': None, 'factLabel': 'Cooling'}, {'factValue': None, 'factLabel': 'Parking'}, {'factValue': None, 'factLabel': 'lotsize'}, {'factValue': None, 'factLabel': 'Price/sqft'}]}                                            3532\n",
      "{'atAGlanceFacts': [{'factValue': '', 'factLabel': 'Year built'}, {'factValue': '', 'factLabel': 'Remodeled year'}, {'factValue': '', 'factLabel': 'Heating'}, {'factValue': '', 'factLabel': 'Cooling'}, {'factValue': '', 'factLabel': 'Parking'}, {'factValue': '', 'factLabel': 'lotsize'}, {'factValue': None, 'factLabel': 'Price/sqft'}]}                                                         566\n",
      "{'atAGlanceFacts': [{'factValue': '', 'factLabel': 'Year built'}, {'factValue': '', 'factLabel': 'Remodeled year'}, {'factValue': '', 'factLabel': 'Heating'}, {'factValue': '', 'factLabel': 'Cooling'}, {'factValue': '', 'factLabel': 'Parking'}, {'factValue': '10000', 'factLabel': 'lotsize'}, {'factValue': None, 'factLabel': 'Price/sqft'}]}                                                    533\n",
      "{'atAGlanceFacts': [{'factValue': '', 'factLabel': 'Year built'}, {'factValue': '', 'factLabel': 'Remodeled year'}, {'factValue': '', 'factLabel': 'Heating'}, {'factValue': '', 'factLabel': 'Cooling'}, {'factValue': '', 'factLabel': 'Parking'}, {'factValue': '10,000 Sq. Ft.', 'factLabel': 'lotsize'}, {'factValue': None, 'factLabel': 'Price/sqft'}]}                                           370\n",
      "                                                                                                                                                                                                                                                                                                                                                                                                        ... \n",
      "{'atAGlanceFacts': [{'factValue': '1900', 'factLabel': 'Year built'}, {'factValue': '', 'factLabel': 'Remodeled year'}, {'factValue': '', 'factLabel': 'Heating'}, {'factValue': '', 'factLabel': 'Cooling'}, {'factValue': '2 Car Garage', 'factLabel': 'Parking'}, {'factValue': '10019', 'factLabel': 'lotsize'}, {'factValue': '$21', 'factLabel': 'Price/sqft'}]}                                     1\n",
      "{'atAGlanceFacts': [{'factValue': '1920', 'factLabel': 'Year built'}, {'factValue': '1965', 'factLabel': 'Remodeled year'}, {'factValue': 'Forced Air', 'factLabel': 'Heating'}, {'factValue': '', 'factLabel': 'Cooling'}, {'factValue': '', 'factLabel': 'Parking'}, {'factValue': '6,795 sqft', 'factLabel': 'lotsize'}, {'factValue': '$17/sqft', 'factLabel': 'Price/sqft'}]}                         1\n",
      "{'atAGlanceFacts': [{'factValue': '1953', 'factLabel': 'Year built'}, {'factValue': '2010', 'factLabel': 'Remodeled year'}, {'factValue': 'Forced Air', 'factLabel': 'Heating'}, {'factValue': 'Central', 'factLabel': 'Cooling'}, {'factValue': 'Off Street', 'factLabel': 'Parking'}, {'factValue': '4,892 sqft', 'factLabel': 'lotsize'}, {'factValue': '$279/sqft', 'factLabel': 'Price/sqft'}]}       1\n",
      "{'atAGlanceFacts': [{'factValue': '1999', 'factLabel': 'Year built'}, {'factValue': '1999', 'factLabel': 'Remodeled year'}, {'factValue': 'Forced air', 'factLabel': 'Heating'}, {'factValue': 'Central', 'factLabel': 'Cooling'}, {'factValue': '2 spaces', 'factLabel': 'Parking'}, {'factValue': '9,151 sqft', 'factLabel': 'lotsize'}, {'factValue': None, 'factLabel': 'Price/sqft'}]}                1\n",
      "{'atAGlanceFacts': [{'factValue': '2019', 'factLabel': 'Year built'}, {'factValue': None, 'factLabel': 'Remodeled year'}, {'factValue': 'Electric', 'factLabel': 'Heating'}, {'factValue': 'Central', 'factLabel': 'Cooling'}, {'factValue': 'No Data', 'factLabel': 'Parking'}, {'factValue': '6,969 sqft', 'factLabel': 'lotsize'}, {'factValue': '$140', 'factLabel': 'Price/sqft'}]}                   1\n",
      "Name: homeFacts, Length: 321008, dtype: int64\n"
     ]
    }
   ],
   "source": [
    "print(f\"Количество уникальных значений:{df['homeFacts'].nunique()}\")\n",
    "print(f\"количество пропусков:{df['homeFacts'].isna().sum()}\")\n",
    "print(f\"Количество пропусков в процентном отношении:{round(df['homeFacts'].isna().sum()/len(df)*100,2)}%\")\n",
    "print(f\"распределение значений:\\n{df['homeFacts'].value_counts()}\")"
   ]
  },
  {
   "cell_type": "markdown",
   "metadata": {},
   "source": [
    "Признак содержит две группы фактов об объекте *'factValue'* и *'factLabel'* объединенные в словарь. Изымим эти факты в отдельные признаки, посмотрим будут ли они нам полезны:"
   ]
  },
  {
   "cell_type": "code",
   "execution_count": 211,
   "metadata": {},
   "outputs": [
    {
     "data": {
      "text/plain": [
       "['Year built',\n",
       " 'Remodeled year',\n",
       " 'Heating',\n",
       " 'Cooling',\n",
       " 'Parking',\n",
       " 'lotsize',\n",
       " 'Price/sqft']"
      ]
     },
     "execution_count": 211,
     "metadata": {},
     "output_type": "execute_result"
    }
   ],
   "source": [
    "#С помощью регулярных выражений выдерним из признака значения для Value и Label\n",
    "Value = df.homeFacts.str.findall(r\"\\bfactValue': ([\\s\\S]+?), 'factLabel\\b\")\n",
    "label = df.homeFacts.str.findall(r\"\\bfactLabel': ([\\s\\S]+?)[}\\b]\")\n",
    "#создадим список названий признаков, удалив лишние кавычки\n",
    "list_label = ','.join(label[0]).replace(\"'\",\"\").split(',')\n",
    "list_label"
   ]
  },
  {
   "cell_type": "code",
   "execution_count": 212,
   "metadata": {},
   "outputs": [],
   "source": [
    "# Создадим эти признаки в нашем фрейме и заполним значениями\n",
    "for i, val in enumerate(list_label):\n",
    "    df[val]=Value.apply(lambda x: x[i])"
   ]
  },
  {
   "cell_type": "markdown",
   "metadata": {},
   "source": [
    "Признак **homeFacts** более не нужен, удалим его:"
   ]
  },
  {
   "cell_type": "code",
   "execution_count": 213,
   "metadata": {},
   "outputs": [],
   "source": [
    "df = df.drop('homeFacts', axis=1)"
   ]
  },
  {
   "cell_type": "code",
   "execution_count": 214,
   "metadata": {},
   "outputs": [
    {
     "name": "stdout",
     "output_type": "stream",
     "text": [
      "<class 'pandas.core.frame.DataFrame'>\n",
      "Int64Index: 377134 entries, 0 to 377134\n",
      "Data columns (total 21 columns):\n",
      " #   Column          Non-Null Count   Dtype  \n",
      "---  ------          --------------   -----  \n",
      " 0   status          377134 non-null  object \n",
      " 1   propertyType    377134 non-null  object \n",
      " 2   street          377134 non-null  object \n",
      " 3   baths           377134 non-null  float64\n",
      " 4   fireplace       377134 non-null  bool   \n",
      " 5   city            377134 non-null  object \n",
      " 6   schools         377134 non-null  object \n",
      " 7   sqft            377134 non-null  int32  \n",
      " 8   zipcode         377134 non-null  object \n",
      " 9   state           377134 non-null  object \n",
      " 10  mls-id          24941 non-null   object \n",
      " 11  PrivatePool     377134 non-null  bool   \n",
      " 12  MlsId           310266 non-null  object \n",
      " 13  target          374654 non-null  object \n",
      " 14  Year built      377134 non-null  object \n",
      " 15  Remodeled year  377134 non-null  object \n",
      " 16  Heating         377134 non-null  object \n",
      " 17  Cooling         377134 non-null  object \n",
      " 18  Parking         377134 non-null  object \n",
      " 19  lotsize         377134 non-null  object \n",
      " 20  Price/sqft      377134 non-null  object \n",
      "dtypes: bool(2), float64(1), int32(1), object(17)\n",
      "memory usage: 64.9+ MB\n"
     ]
    }
   ],
   "source": [
    "df.info()"
   ]
  },
  {
   "cell_type": "markdown",
   "metadata": {},
   "source": [
    "#### Признак Year built"
   ]
  },
  {
   "cell_type": "markdown",
   "metadata": {},
   "source": [
    "Признак **Year built** указывает на год строительства объекта, посмотрим на него:"
   ]
  },
  {
   "cell_type": "code",
   "execution_count": 215,
   "metadata": {},
   "outputs": [
    {
     "data": {
      "text/plain": [
       "array([\"'2019'\", \"'1961'\", \"'2006'\", \"''\", \"'1920'\", \"'1976'\", \"'1970'\",\n",
       "       \"'1965'\", \"'2015'\", \"'1996'\"], dtype=object)"
      ]
     },
     "execution_count": 215,
     "metadata": {},
     "output_type": "execute_result"
    }
   ],
   "source": [
    "df['Year built'].unique()[:10]"
   ]
  },
  {
   "cell_type": "markdown",
   "metadata": {},
   "source": [
    "Уберем ненужные ковычки:"
   ]
  },
  {
   "cell_type": "code",
   "execution_count": 216,
   "metadata": {},
   "outputs": [],
   "source": [
    "df['Year built'] = df['Year built'].str.replace(\"'\",'', regex=True)"
   ]
  },
  {
   "cell_type": "markdown",
   "metadata": {},
   "source": [
    "Изучем значения признака:"
   ]
  },
  {
   "cell_type": "code",
   "execution_count": 217,
   "metadata": {},
   "outputs": [],
   "source": [
    "l = list(df['Year built'].unique())\n",
    "#l"
   ]
  },
  {
   "cell_type": "markdown",
   "metadata": {},
   "source": [
    "Есть дома со странными датами:"
   ]
  },
  {
   "cell_type": "code",
   "execution_count": 218,
   "metadata": {},
   "outputs": [
    {
     "data": {
      "text/html": [
       "<div>\n",
       "<style scoped>\n",
       "    .dataframe tbody tr th:only-of-type {\n",
       "        vertical-align: middle;\n",
       "    }\n",
       "\n",
       "    .dataframe tbody tr th {\n",
       "        vertical-align: top;\n",
       "    }\n",
       "\n",
       "    .dataframe thead th {\n",
       "        text-align: right;\n",
       "    }\n",
       "</style>\n",
       "<table border=\"1\" class=\"dataframe\">\n",
       "  <thead>\n",
       "    <tr style=\"text-align: right;\">\n",
       "      <th></th>\n",
       "      <th>status</th>\n",
       "      <th>propertyType</th>\n",
       "      <th>street</th>\n",
       "      <th>baths</th>\n",
       "      <th>fireplace</th>\n",
       "      <th>city</th>\n",
       "      <th>schools</th>\n",
       "      <th>sqft</th>\n",
       "      <th>zipcode</th>\n",
       "      <th>state</th>\n",
       "      <th>...</th>\n",
       "      <th>PrivatePool</th>\n",
       "      <th>MlsId</th>\n",
       "      <th>target</th>\n",
       "      <th>Year built</th>\n",
       "      <th>Remodeled year</th>\n",
       "      <th>Heating</th>\n",
       "      <th>Cooling</th>\n",
       "      <th>Parking</th>\n",
       "      <th>lotsize</th>\n",
       "      <th>Price/sqft</th>\n",
       "    </tr>\n",
       "  </thead>\n",
       "  <tbody>\n",
       "    <tr>\n",
       "      <th>77797</th>\n",
       "      <td>auction</td>\n",
       "      <td>condo</td>\n",
       "      <td>12522 15th ave ne</td>\n",
       "      <td>2.0</td>\n",
       "      <td>False</td>\n",
       "      <td>seattle</td>\n",
       "      <td>[{'rating': ['5', '6', '7', '6', '7', 'NR', 'N...</td>\n",
       "      <td>1486</td>\n",
       "      <td>98125</td>\n",
       "      <td>WA</td>\n",
       "      <td>...</td>\n",
       "      <td>False</td>\n",
       "      <td>161732709</td>\n",
       "      <td>$649,990</td>\n",
       "      <td>559990649990</td>\n",
       "      <td>''</td>\n",
       "      <td>''</td>\n",
       "      <td>''</td>\n",
       "      <td>''</td>\n",
       "      <td>None</td>\n",
       "      <td>'$437'</td>\n",
       "    </tr>\n",
       "    <tr>\n",
       "      <th>120334</th>\n",
       "      <td>for sale</td>\n",
       "      <td>land</td>\n",
       "      <td>w trinity ln</td>\n",
       "      <td>0.0</td>\n",
       "      <td>False</td>\n",
       "      <td>nashville</td>\n",
       "      <td>[{'rating': ['2/10', '1/10', 'None/10'], 'data...</td>\n",
       "      <td>1</td>\n",
       "      <td>37207</td>\n",
       "      <td>TN</td>\n",
       "      <td>...</td>\n",
       "      <td>False</td>\n",
       "      <td>1997063</td>\n",
       "      <td>$5,950,000</td>\n",
       "      <td>1</td>\n",
       "      <td>'1111'</td>\n",
       "      <td>''</td>\n",
       "      <td>''</td>\n",
       "      <td>''</td>\n",
       "      <td>'12.59 acres'</td>\n",
       "      <td>'$5,950,000/sqft'</td>\n",
       "    </tr>\n",
       "    <tr>\n",
       "      <th>149913</th>\n",
       "      <td>Pending Inspection</td>\n",
       "      <td>single_family_home</td>\n",
       "      <td>648 n mulberry st</td>\n",
       "      <td>2.0</td>\n",
       "      <td>False</td>\n",
       "      <td>logan</td>\n",
       "      <td>[{'rating': ['9', '6', '4', '6', 'NR', 'NR'], ...</td>\n",
       "      <td>1208</td>\n",
       "      <td>43138</td>\n",
       "      <td>OH</td>\n",
       "      <td>...</td>\n",
       "      <td>False</td>\n",
       "      <td>9922581</td>\n",
       "      <td>$79,000</td>\n",
       "      <td>1208</td>\n",
       "      <td>''</td>\n",
       "      <td>'GAS FORCED AIR'</td>\n",
       "      <td>''</td>\n",
       "      <td>'888'</td>\n",
       "      <td>None</td>\n",
       "      <td>'$65'</td>\n",
       "    </tr>\n",
       "    <tr>\n",
       "      <th>164154</th>\n",
       "      <td>auction</td>\n",
       "      <td>other</td>\n",
       "      <td>2421 flume gate ct</td>\n",
       "      <td>0.0</td>\n",
       "      <td>True</td>\n",
       "      <td>raleigh</td>\n",
       "      <td>[{'rating': ['5', '4', '3'], 'data': {'Distanc...</td>\n",
       "      <td>3518</td>\n",
       "      <td>27603</td>\n",
       "      <td>NC</td>\n",
       "      <td>...</td>\n",
       "      <td>False</td>\n",
       "      <td>2226990</td>\n",
       "      <td>534,000</td>\n",
       "      <td>2025</td>\n",
       "      <td>''</td>\n",
       "      <td>''</td>\n",
       "      <td>''</td>\n",
       "      <td>''</td>\n",
       "      <td>'—'</td>\n",
       "      <td>'$152 / Sq. Ft.'</td>\n",
       "    </tr>\n",
       "    <tr>\n",
       "      <th>172710</th>\n",
       "      <td>auction</td>\n",
       "      <td>single_family_home</td>\n",
       "      <td>5532 nw 57th pl</td>\n",
       "      <td>2.0</td>\n",
       "      <td>False</td>\n",
       "      <td>ocala</td>\n",
       "      <td>[{'rating': ['1', '4', '3', '1', '6', '5', 'NR...</td>\n",
       "      <td>1042</td>\n",
       "      <td>34482</td>\n",
       "      <td>FL</td>\n",
       "      <td>...</td>\n",
       "      <td>False</td>\n",
       "      <td>562474</td>\n",
       "      <td>$104,900</td>\n",
       "      <td>1057</td>\n",
       "      <td>''</td>\n",
       "      <td>'Central Electric'</td>\n",
       "      <td>'Central Electric'</td>\n",
       "      <td>''</td>\n",
       "      <td>'8712'</td>\n",
       "      <td>'$101'</td>\n",
       "    </tr>\n",
       "    <tr>\n",
       "      <th>179733</th>\n",
       "      <td>for sale</td>\n",
       "      <td>land</td>\n",
       "      <td>5754 grande lagoon blvd</td>\n",
       "      <td>0.0</td>\n",
       "      <td>False</td>\n",
       "      <td>pensacola</td>\n",
       "      <td>[{'rating': ['3/10', '7/10', '3/10'], 'data': ...</td>\n",
       "      <td>20900</td>\n",
       "      <td>32507</td>\n",
       "      <td>FL</td>\n",
       "      <td>...</td>\n",
       "      <td>False</td>\n",
       "      <td>501274</td>\n",
       "      <td>$139,000</td>\n",
       "      <td>1</td>\n",
       "      <td>''</td>\n",
       "      <td>''</td>\n",
       "      <td>''</td>\n",
       "      <td>''</td>\n",
       "      <td>'0.48 acres'</td>\n",
       "      <td>'$7/sqft'</td>\n",
       "    </tr>\n",
       "    <tr>\n",
       "      <th>264030</th>\n",
       "      <td>auction</td>\n",
       "      <td>other</td>\n",
       "      <td>576 19th st</td>\n",
       "      <td>0.0</td>\n",
       "      <td>False</td>\n",
       "      <td>brooklyn</td>\n",
       "      <td>[{'rating': ['6', '8', '5', '6'], 'data': {'Di...</td>\n",
       "      <td>1892</td>\n",
       "      <td>11218</td>\n",
       "      <td>NY</td>\n",
       "      <td>...</td>\n",
       "      <td>False</td>\n",
       "      <td>1131116</td>\n",
       "      <td>1,499,999</td>\n",
       "      <td>1060</td>\n",
       "      <td>'1960'</td>\n",
       "      <td>''</td>\n",
       "      <td>''</td>\n",
       "      <td>''</td>\n",
       "      <td>'1,953 Sq. Ft.'</td>\n",
       "      <td>'$793 / Sq. Ft.'</td>\n",
       "    </tr>\n",
       "    <tr>\n",
       "      <th>312838</th>\n",
       "      <td>auction</td>\n",
       "      <td>other</td>\n",
       "      <td>ellisway rd #13</td>\n",
       "      <td>3.0</td>\n",
       "      <td>False</td>\n",
       "      <td>charlotte</td>\n",
       "      <td>[{'rating': [], 'data': {'Distance': [], 'Grad...</td>\n",
       "      <td>1811</td>\n",
       "      <td>28216</td>\n",
       "      <td>NC</td>\n",
       "      <td>...</td>\n",
       "      <td>False</td>\n",
       "      <td>3564047</td>\n",
       "      <td>285,500</td>\n",
       "      <td>1019</td>\n",
       "      <td>''</td>\n",
       "      <td>''</td>\n",
       "      <td>'Heat Pump for A/C, Heat Pump for Heat'</td>\n",
       "      <td>''</td>\n",
       "      <td>'—'</td>\n",
       "      <td>'$158 / Sq. Ft.'</td>\n",
       "    </tr>\n",
       "    <tr>\n",
       "      <th>313472</th>\n",
       "      <td>auction</td>\n",
       "      <td>other</td>\n",
       "      <td>2405 flume gate ct</td>\n",
       "      <td>0.0</td>\n",
       "      <td>True</td>\n",
       "      <td>raleigh</td>\n",
       "      <td>[{'rating': ['5', '4', '3'], 'data': {'Distanc...</td>\n",
       "      <td>3000</td>\n",
       "      <td>27603</td>\n",
       "      <td>NC</td>\n",
       "      <td>...</td>\n",
       "      <td>False</td>\n",
       "      <td>2226994</td>\n",
       "      <td>494,990</td>\n",
       "      <td>2025</td>\n",
       "      <td>''</td>\n",
       "      <td>''</td>\n",
       "      <td>''</td>\n",
       "      <td>''</td>\n",
       "      <td>'0.77 Acres'</td>\n",
       "      <td>'$165 / Sq. Ft.'</td>\n",
       "    </tr>\n",
       "    <tr>\n",
       "      <th>354101</th>\n",
       "      <td>auction</td>\n",
       "      <td>condo</td>\n",
       "      <td>12522 15th ave ne</td>\n",
       "      <td>2.0</td>\n",
       "      <td>False</td>\n",
       "      <td>seattle</td>\n",
       "      <td>[{'rating': ['5', '6', '7', '6', '7', 'NR', 'N...</td>\n",
       "      <td>1233</td>\n",
       "      <td>98125</td>\n",
       "      <td>WA</td>\n",
       "      <td>...</td>\n",
       "      <td>False</td>\n",
       "      <td>161732708</td>\n",
       "      <td>$559,990</td>\n",
       "      <td>559990649990</td>\n",
       "      <td>''</td>\n",
       "      <td>''</td>\n",
       "      <td>''</td>\n",
       "      <td>''</td>\n",
       "      <td>None</td>\n",
       "      <td>'$454'</td>\n",
       "    </tr>\n",
       "  </tbody>\n",
       "</table>\n",
       "<p>10 rows × 21 columns</p>\n",
       "</div>"
      ],
      "text/plain": [
       "                    status        propertyType                   street  \\\n",
       "77797              auction               condo        12522 15th ave ne   \n",
       "120334            for sale                land             w trinity ln   \n",
       "149913  Pending Inspection  single_family_home        648 n mulberry st   \n",
       "164154             auction               other      2421 flume gate ct    \n",
       "172710             auction  single_family_home          5532 nw 57th pl   \n",
       "179733            for sale                land  5754 grande lagoon blvd   \n",
       "264030             auction               other             576 19th st    \n",
       "312838             auction               other         ellisway rd #13    \n",
       "313472             auction               other      2405 flume gate ct    \n",
       "354101             auction               condo        12522 15th ave ne   \n",
       "\n",
       "        baths  fireplace       city  \\\n",
       "77797     2.0      False    seattle   \n",
       "120334    0.0      False  nashville   \n",
       "149913    2.0      False      logan   \n",
       "164154    0.0       True    raleigh   \n",
       "172710    2.0      False      ocala   \n",
       "179733    0.0      False  pensacola   \n",
       "264030    0.0      False   brooklyn   \n",
       "312838    3.0      False  charlotte   \n",
       "313472    0.0       True    raleigh   \n",
       "354101    2.0      False    seattle   \n",
       "\n",
       "                                                  schools   sqft zipcode  \\\n",
       "77797   [{'rating': ['5', '6', '7', '6', '7', 'NR', 'N...   1486   98125   \n",
       "120334  [{'rating': ['2/10', '1/10', 'None/10'], 'data...      1   37207   \n",
       "149913  [{'rating': ['9', '6', '4', '6', 'NR', 'NR'], ...   1208   43138   \n",
       "164154  [{'rating': ['5', '4', '3'], 'data': {'Distanc...   3518   27603   \n",
       "172710  [{'rating': ['1', '4', '3', '1', '6', '5', 'NR...   1042   34482   \n",
       "179733  [{'rating': ['3/10', '7/10', '3/10'], 'data': ...  20900   32507   \n",
       "264030  [{'rating': ['6', '8', '5', '6'], 'data': {'Di...   1892   11218   \n",
       "312838  [{'rating': [], 'data': {'Distance': [], 'Grad...   1811   28216   \n",
       "313472  [{'rating': ['5', '4', '3'], 'data': {'Distanc...   3000   27603   \n",
       "354101  [{'rating': ['5', '6', '7', '6', '7', 'NR', 'N...   1233   98125   \n",
       "\n",
       "       state  ... PrivatePool      MlsId      target    Year built  \\\n",
       "77797     WA  ...       False  161732709    $649,990  559990649990   \n",
       "120334    TN  ...       False    1997063  $5,950,000             1   \n",
       "149913    OH  ...       False    9922581     $79,000          1208   \n",
       "164154    NC  ...       False    2226990     534,000          2025   \n",
       "172710    FL  ...       False     562474    $104,900          1057   \n",
       "179733    FL  ...       False     501274    $139,000             1   \n",
       "264030    NY  ...       False    1131116   1,499,999          1060   \n",
       "312838    NC  ...       False    3564047     285,500          1019   \n",
       "313472    NC  ...       False    2226994     494,990          2025   \n",
       "354101    WA  ...       False  161732708    $559,990  559990649990   \n",
       "\n",
       "       Remodeled year             Heating  \\\n",
       "77797              ''                  ''   \n",
       "120334         '1111'                  ''   \n",
       "149913             ''    'GAS FORCED AIR'   \n",
       "164154             ''                  ''   \n",
       "172710             ''  'Central Electric'   \n",
       "179733             ''                  ''   \n",
       "264030         '1960'                  ''   \n",
       "312838             ''                  ''   \n",
       "313472             ''                  ''   \n",
       "354101             ''                  ''   \n",
       "\n",
       "                                        Cooling Parking          lotsize  \\\n",
       "77797                                        ''      ''             None   \n",
       "120334                                       ''      ''    '12.59 acres'   \n",
       "149913                                       ''   '888'             None   \n",
       "164154                                       ''      ''              '—'   \n",
       "172710                       'Central Electric'      ''           '8712'   \n",
       "179733                                       ''      ''     '0.48 acres'   \n",
       "264030                                       ''      ''  '1,953 Sq. Ft.'   \n",
       "312838  'Heat Pump for A/C, Heat Pump for Heat'      ''              '—'   \n",
       "313472                                       ''      ''     '0.77 Acres'   \n",
       "354101                                       ''      ''             None   \n",
       "\n",
       "               Price/sqft  \n",
       "77797              '$437'  \n",
       "120334  '$5,950,000/sqft'  \n",
       "149913              '$65'  \n",
       "164154   '$152 / Sq. Ft.'  \n",
       "172710             '$101'  \n",
       "179733          '$7/sqft'  \n",
       "264030   '$793 / Sq. Ft.'  \n",
       "312838   '$158 / Sq. Ft.'  \n",
       "313472   '$165 / Sq. Ft.'  \n",
       "354101             '$454'  \n",
       "\n",
       "[10 rows x 21 columns]"
      ]
     },
     "execution_count": 218,
     "metadata": {},
     "output_type": "execute_result"
    }
   ],
   "source": [
    "house_strange = df[(df['Year built'] == '1019') | (df['Year built'] == '1057') | (df['Year built'] == '1060')  | (df['Year built'] == '1') |\n",
    "                   (df['Year built'] == '1208') | (df['Year built'] == '2025') | (df['Year built'] == '559990649990')]\n",
    "house_strange"
   ]
  },
  {
   "cell_type": "markdown",
   "metadata": {},
   "source": [
    "Домов со странными датами немного, их можно найти и внести вручную. Также есть *ковычки, None, No Data*, заменим их на *no info*:"
   ]
  },
  {
   "cell_type": "code",
   "execution_count": 219,
   "metadata": {},
   "outputs": [],
   "source": [
    "df.at[77797,'Year built'] = '2021'\n",
    "df.at[120334,'Year built'] = 'no info'\n",
    "df.at[149913,'Year built'] = '1908'\n",
    "df.at[164154,'Year built'] = '2021'\n",
    "df.at[172710,'Year built'] = '1987'\n",
    "df.at[179733,'Year built'] = 'no info'\n",
    "df.at[264030,'Year built'] = '1960'\n",
    "df.at[312838,'Year built'] = '2020'\n",
    "df.at[313472,'Year built'] = '2020'\n",
    "df.at[354101,'Year built'] = '2021'\n",
    "\n",
    "df['Year built'] = df['Year built'].str.replace('^\\s*$','no info', regex=True)\n",
    "\n",
    "mask= df['Year built'].isin(['No Data','None'])\n",
    "df.loc[mask,'Year built'] = 'no info'"
   ]
  },
  {
   "cell_type": "markdown",
   "metadata": {},
   "source": [
    "Посмотрим на количество значений *no info* относительно датафрема в целом:"
   ]
  },
  {
   "cell_type": "code",
   "execution_count": 220,
   "metadata": {},
   "outputs": [
    {
     "name": "stdout",
     "output_type": "stream",
     "text": [
      "Количество значения 'no info' относительно датафрейма:16.86%\n"
     ]
    }
   ],
   "source": [
    "no_info_row = df[df['Year built'] == 'no info']\n",
    "\n",
    "print(f\"Количество значения 'no info' относительно датафрейма:{round(len(no_info_row)/len(df)*100,2)}%\")"
   ]
  },
  {
   "cell_type": "markdown",
   "metadata": {},
   "source": [
    "Допустим, данные о годе сроительства отсутствуют у типов объекта *other, land, ranch*. Посмотрим на количество значений *no info* относительно этих типа объекта:"
   ]
  },
  {
   "cell_type": "code",
   "execution_count": 221,
   "metadata": {},
   "outputs": [
    {
     "name": "stdout",
     "output_type": "stream",
     "text": [
      "Количество значения 'no info' относительно other, land, ranch:11.89%\n"
     ]
    }
   ],
   "source": [
    "no_info_row = df[(df['Year built'] == 'no info') & ((df['propertyType'] == 'other') | (df['propertyType'] == 'land') | (df['propertyType'] == 'ranch'))]\n",
    "\n",
    "print(f\"Количество значения 'no info' относительно other, land, ranch:{round(len(no_info_row)/len(df)*100,2)}%\")"
   ]
  },
  {
   "cell_type": "markdown",
   "metadata": {},
   "source": [
    "Таким образов видим, что данные о годе строительства отсутсвуют у 16.86% наблюдений, из них 11.89% это объекты other, land, ranch и 4.97% у других объектов, что является допустимым."
   ]
  },
  {
   "cell_type": "markdown",
   "metadata": {},
   "source": [
    "#### Признак Remodeled year"
   ]
  },
  {
   "cell_type": "markdown",
   "metadata": {},
   "source": [
    "Признак **Remodeled year** указывает на год реконструкции объекта. Посмотрим на него:"
   ]
  },
  {
   "cell_type": "code",
   "execution_count": 222,
   "metadata": {},
   "outputs": [
    {
     "data": {
      "text/plain": [
       "array(['', '1967', '2006', 'None', '2015', '1997', '2019', '1982', '1905',\n",
       "       '2009'], dtype=object)"
      ]
     },
     "execution_count": 222,
     "metadata": {},
     "output_type": "execute_result"
    }
   ],
   "source": [
    "#уберем ненужные ковычки\n",
    "df['Remodeled year'] = df['Remodeled year'].str.replace(\"'\",'', regex=True)\n",
    "df['Remodeled year'].unique()[:10]"
   ]
  },
  {
   "cell_type": "code",
   "execution_count": 223,
   "metadata": {},
   "outputs": [],
   "source": [
    "l = list(df['Remodeled year'].unique())\n",
    "#l"
   ]
  },
  {
   "cell_type": "markdown",
   "metadata": {},
   "source": [
    "Проверим, относится ли *None* приимущественно к other, land, ranch:"
   ]
  },
  {
   "cell_type": "code",
   "execution_count": 224,
   "metadata": {},
   "outputs": [
    {
     "name": "stdout",
     "output_type": "stream",
     "text": [
      "Количество значения 'None' относительно other, land, ranch:0.94%\n"
     ]
    }
   ],
   "source": [
    "no_info_row = df[(df['Remodeled year'] == 'None') & ((df['propertyType'] == 'other') | (df['propertyType'] == 'land') | (df['propertyType'] == 'ranch'))]\n",
    "\n",
    "print(f\"Количество значения 'None' относительно other, land, ranch:{round(len(no_info_row)/len(df)*100,2)}%\")"
   ]
  },
  {
   "cell_type": "markdown",
   "metadata": {},
   "source": [
    "Заменим некоректные значения на *None*, предполагая, что дом не реконструировался:"
   ]
  },
  {
   "cell_type": "code",
   "execution_count": 225,
   "metadata": {},
   "outputs": [
    {
     "name": "stdout",
     "output_type": "stream",
     "text": [
      "Процент None: 7.04%\n",
      "Количество None: 26567\n"
     ]
    }
   ],
   "source": [
    "#количество значений None до преобразования\n",
    "print(f\"Процент None: {round(df[df['Remodeled year']=='None'].shape[0]/df.shape[0]*100, 2)}%\")\n",
    "print(f\"Количество None: {df.loc[df['Remodeled year']=='None', 'Remodeled year'].count()}\")"
   ]
  },
  {
   "cell_type": "code",
   "execution_count": 226,
   "metadata": {},
   "outputs": [],
   "source": [
    "mask= df['Remodeled year'].isin(['', '0', '1111'])\n",
    "df.loc[mask,'Remodeled year'] = 'None'"
   ]
  },
  {
   "cell_type": "code",
   "execution_count": 227,
   "metadata": {},
   "outputs": [
    {
     "name": "stdout",
     "output_type": "stream",
     "text": [
      "Процент None: 60.01%\n",
      "Количество None: 226332\n"
     ]
    }
   ],
   "source": [
    "#количество значений None после преобразования\n",
    "print(f\"Процент None: {round(df[df['Remodeled year']=='None'].shape[0]/df.shape[0]*100, 2)}%\")\n",
    "print(f\"Количество None: {df.loc[df['Remodeled year']=='None', 'Remodeled year'].count()}\")"
   ]
  },
  {
   "cell_type": "markdown",
   "metadata": {},
   "source": [
    "Предположим, что отсутсвие информации о реконструкции связанно с новизной объекта. Посмотрим на количество объектов старше 23 лет (старше 2000 года) без реконструкции, их отношение к общему количеству наблюдений: "
   ]
  },
  {
   "cell_type": "code",
   "execution_count": 228,
   "metadata": {},
   "outputs": [
    {
     "name": "stdout",
     "output_type": "stream",
     "text": [
      "Количество объектов построенных ранее 2000-го года и не реконструированнных:195368\n",
      "Отношение объектов построенных ранее 2000-го года и не реконструированнных к общему числу наблюдений:51.8%\n"
     ]
    }
   ],
   "source": [
    "with_none = df[(df['Remodeled year'] == 'None') | df['Year built']]\n",
    "print(f\"Количество объектов построенных ранее 2000-го года и не реконструированнных:{with_none[with_none['Year built'] < '2000'].shape[0]}\")\n",
    "print(f\"Отношение объектов построенных ранее 2000-го года и не реконструированнных к общему числу наблюдений:{round(len(with_none[with_none['Year built'] < '2000'])/len(df)*100,2)}%\")"
   ]
  },
  {
   "cell_type": "markdown",
   "metadata": {},
   "source": [
    "Реконструкция несомненно влияет на стоимость объекта в сторону её увеличения, однако в наших данных более половины объектов не имеющих данных о реконструкции построенны ранее 2000-го. По всей видимости это не отсутсвия реконструкции, а отсутсвие данных о реконструкции, что делает признак бесполезным. Удалим его:"
   ]
  },
  {
   "cell_type": "code",
   "execution_count": 229,
   "metadata": {},
   "outputs": [],
   "source": [
    "df = df.drop('Remodeled year', axis=1)"
   ]
  },
  {
   "cell_type": "markdown",
   "metadata": {},
   "source": [
    "#### Признак Heating"
   ]
  },
  {
   "cell_type": "markdown",
   "metadata": {},
   "source": [
    "Признак **Heating** указывает на наличие отопления. Посмотрим на него:"
   ]
  },
  {
   "cell_type": "code",
   "execution_count": 230,
   "metadata": {},
   "outputs": [
    {
     "data": {
      "text/plain": [
       "array(['Central A/C, Heat Pump', '', 'Forced Air', 'Electric, Heat Pump',\n",
       "       'Gas', 'Central Electric', 'Forced air', 'Other',\n",
       "       'Forced air, Heat pump', 'Central Air'], dtype=object)"
      ]
     },
     "execution_count": 230,
     "metadata": {},
     "output_type": "execute_result"
    }
   ],
   "source": [
    "#уберем ненужные ковычки\n",
    "df['Heating'] = df['Heating'].str.replace(\"'\",'', regex=True)\n",
    "df['Heating'].unique()[:10]"
   ]
  },
  {
   "cell_type": "code",
   "execution_count": 231,
   "metadata": {},
   "outputs": [
    {
     "data": {
      "text/plain": [
       "forced air                                                      134308\n",
       "                                                                105760\n",
       "other                                                            29622\n",
       "electric                                                         10215\n",
       "gas                                                               9296\n",
       "                                                                 ...  \n",
       "zoned heating, wall unit heating, forced air heating                 1\n",
       "baseboard, spacewallunit                                             1\n",
       "hot air, stove-pellet                                                1\n",
       "natural gas, space heater                                            1\n",
       "baseboard, hot water, programmable thermostat, radiant floor         1\n",
       "Name: Heating, Length: 1918, dtype: int64"
      ]
     },
     "execution_count": 231,
     "metadata": {},
     "output_type": "execute_result"
    }
   ],
   "source": [
    "df['Heating'] = df['Heating'].str.lower()\n",
    "df['Heating'].value_counts()"
   ]
  },
  {
   "cell_type": "markdown",
   "metadata": {},
   "source": [
    "В признаке содержится информация о типах отопления, отапливаемых участках и т.д. Предположим, что отсутсвующие значения указвают на отсутсвие отопления. Булево закодируем признак, наличие отопления будет *True*, отсутвтие -  *False*:"
   ]
  },
  {
   "cell_type": "code",
   "execution_count": 232,
   "metadata": {},
   "outputs": [],
   "source": [
    "df['Heating'] = df['Heating'].apply(lambda x: True if x not in ['', 'no data', 'None', 'none'] else False)"
   ]
  },
  {
   "cell_type": "code",
   "execution_count": 233,
   "metadata": {},
   "outputs": [
    {
     "data": {
      "text/plain": [
       "True     259159\n",
       "False    117975\n",
       "Name: Heating, dtype: int64"
      ]
     },
     "execution_count": 233,
     "metadata": {},
     "output_type": "execute_result"
    }
   ],
   "source": [
    "df['Heating'].value_counts()"
   ]
  },
  {
   "cell_type": "markdown",
   "metadata": {},
   "source": [
    "#### Признак Cooling"
   ]
  },
  {
   "cell_type": "markdown",
   "metadata": {},
   "source": [
    "Признак **Cooling** указывает на наличие системы кондиционирования, кондиционера. Посмотрим на него:"
   ]
  },
  {
   "cell_type": "code",
   "execution_count": 234,
   "metadata": {},
   "outputs": [
    {
     "data": {
      "text/plain": [
       "array(['', 'Central', 'Central Air', 'Central Gas', 'Steam Heating',\n",
       "       'Central, Evaporative', 'Has Cooling',\n",
       "       'Air Conditioning Unit(s), Ceiling Fan(s)', 'Central A/C',\n",
       "       'No Data'], dtype=object)"
      ]
     },
     "execution_count": 234,
     "metadata": {},
     "output_type": "execute_result"
    }
   ],
   "source": [
    "#уберем ненужные ковычки\n",
    "df['Cooling'] = df['Cooling'].str.replace(\"'\",'', regex=True)\n",
    "df['Cooling'].unique()[:10]"
   ]
  },
  {
   "cell_type": "code",
   "execution_count": 235,
   "metadata": {},
   "outputs": [
    {
     "data": {
      "text/plain": [
       "central                                                                158744\n",
       "                                                                       120395\n",
       "central air                                                             14384\n",
       "none                                                                    10923\n",
       "no data                                                                 10615\n",
       "                                                                        ...  \n",
       "central gas, propane, zoned                                                 1\n",
       "other (see remarks), panel/floor/wall, window unit                          1\n",
       "multi units, zoned cooling                                                  1\n",
       "central air, g-energy star hvac, gas hot air/furnace, multizone a/c         1\n",
       "central a/c (gas), central heat (gas), heat pump                            1\n",
       "Name: Cooling, Length: 1438, dtype: int64"
      ]
     },
     "execution_count": 235,
     "metadata": {},
     "output_type": "execute_result"
    }
   ],
   "source": [
    "df['Cooling'] = df['Cooling'].str.lower()\n",
    "df['Cooling'].value_counts()"
   ]
  },
  {
   "cell_type": "markdown",
   "metadata": {},
   "source": [
    "В признаке содержится информация о типах кондиционирования. Предположим, что отсутсвующие значения указвают на отсутсвие кондиционера, системы кондиционирования. Булево закодируем признак, наличие - *True*, отсутвтие -  *False*:"
   ]
  },
  {
   "cell_type": "code",
   "execution_count": 236,
   "metadata": {},
   "outputs": [],
   "source": [
    "df['Cooling'] = df['Cooling'].apply(lambda x: True if x not in ['', 'no data', 'None', 'none'] else False)"
   ]
  },
  {
   "cell_type": "code",
   "execution_count": 237,
   "metadata": {},
   "outputs": [
    {
     "data": {
      "text/plain": [
       "True     235201\n",
       "False    141933\n",
       "Name: Cooling, dtype: int64"
      ]
     },
     "execution_count": 237,
     "metadata": {},
     "output_type": "execute_result"
    }
   ],
   "source": [
    "df['Cooling'].value_counts()"
   ]
  },
  {
   "cell_type": "markdown",
   "metadata": {},
   "source": [
    "#### Признак Parking"
   ]
  },
  {
   "cell_type": "markdown",
   "metadata": {},
   "source": [
    "Признак **Parking** указывает на наличие парковки. Посмотрим на него:"
   ]
  },
  {
   "cell_type": "code",
   "execution_count": 238,
   "metadata": {},
   "outputs": [
    {
     "data": {
      "text/plain": [
       "array(['', 'Attached Garage', 'Detached Garage',\n",
       "       'Carport, Attached Garage', '2 spaces', '4 spaces', 'Off Street',\n",
       "       'None', '0', '1 space'], dtype=object)"
      ]
     },
     "execution_count": 238,
     "metadata": {},
     "output_type": "execute_result"
    }
   ],
   "source": [
    "#уберем ненужные ковычки\n",
    "df['Parking'] = df['Parking'].str.replace(\"'\",'', regex=True)\n",
    "df['Parking'].unique()[:10]"
   ]
  },
  {
   "cell_type": "code",
   "execution_count": 239,
   "metadata": {},
   "outputs": [
    {
     "data": {
      "text/plain": [
       "                                                                                                                                    171846\n",
       "attached garage                                                                                                                      70748\n",
       "2 spaces                                                                                                                             28061\n",
       "1 space                                                                                                                              14252\n",
       "no data                                                                                                                              13333\n",
       "                                                                                                                                     ...  \n",
       "assigned, open, under building                                                                                                           1\n",
       "assigned parking space - 1, parking garage, parking space - 1                                                                            1\n",
       "paved parking, driveway, off street                                                                                                      1\n",
       "attached garage, carport - 3 car, side load garage                                                                                       1\n",
       "deed restrictions, fitness, gated community, golf carts ok, no truck/rv/motorcycle parking, pool, special community restrictions         1\n",
       "Name: Parking, Length: 3320, dtype: int64"
      ]
     },
     "execution_count": 239,
     "metadata": {},
     "output_type": "execute_result"
    }
   ],
   "source": [
    "df['Parking'] = df['Parking'].str.lower()\n",
    "df['Parking'].value_counts()"
   ]
  },
  {
   "cell_type": "markdown",
   "metadata": {},
   "source": [
    "В признаке содержится информация о типах парковки, количестве парковочных мест и т.д. Предположим, что отсутсвующие значения указвают на отсутсвие парковки, парковочного местка. Булево закодируем признак, наличие - *True*, отсутвтие -  *False*:"
   ]
  },
  {
   "cell_type": "code",
   "execution_count": 240,
   "metadata": {},
   "outputs": [],
   "source": [
    "df['Parking'] = df['Parking'].apply(lambda x: True if x not in ['', 'no data', 'None', 'none','0'] else False)"
   ]
  },
  {
   "cell_type": "code",
   "execution_count": 241,
   "metadata": {},
   "outputs": [
    {
     "data": {
      "text/plain": [
       "False    192194\n",
       "True     184940\n",
       "Name: Parking, dtype: int64"
      ]
     },
     "execution_count": 241,
     "metadata": {},
     "output_type": "execute_result"
    }
   ],
   "source": [
    "df['Parking'].value_counts()"
   ]
  },
  {
   "cell_type": "markdown",
   "metadata": {},
   "source": [
    "####  Признак lotsize"
   ]
  },
  {
   "cell_type": "markdown",
   "metadata": {},
   "source": [
    "Признак **lotsize** указывает на размер продаваемого лота. Посмотрим на него:"
   ]
  },
  {
   "cell_type": "code",
   "execution_count": 242,
   "metadata": {},
   "outputs": [
    {
     "data": {
      "text/plain": [
       "array(['None', '5828 sqft', '8,626 sqft', '8,220 sqft', '10,019 sqft',\n",
       "       '680 sqft', '4,996 Sq. Ft.', '8,750 Sq. Ft.', '124582',\n",
       "       '2,056 sqft'], dtype=object)"
      ]
     },
     "execution_count": 242,
     "metadata": {},
     "output_type": "execute_result"
    }
   ],
   "source": [
    "#уберем ненужные ковычки\n",
    "df['lotsize'] = df['lotsize'].str.replace(\"'\",'', regex=True)\n",
    "df['lotsize'].unique()[:10]"
   ]
  },
  {
   "cell_type": "code",
   "execution_count": 243,
   "metadata": {},
   "outputs": [
    {
     "data": {
      "text/plain": [
       "                  33055\n",
       "none              28387\n",
       "—                 25251\n",
       "no data            5329\n",
       "-- sqft lot        3818\n",
       "                  ...  \n",
       "43160                 1\n",
       "8,758 sq. ft.         1\n",
       "8,511 sqft lot        1\n",
       "3400 sqft             1\n",
       "7,084 sqft lot        1\n",
       "Name: lotsize, Length: 36609, dtype: int64"
      ]
     },
     "execution_count": 243,
     "metadata": {},
     "output_type": "execute_result"
    }
   ],
   "source": [
    "df['lotsize'] = df['lotsize'].str.lower()\n",
    "df['lotsize'].value_counts()"
   ]
  },
  {
   "cell_type": "code",
   "execution_count": 244,
   "metadata": {},
   "outputs": [],
   "source": [
    "l = list(df['lotsize'].unique())\n",
    "#l"
   ]
  },
  {
   "cell_type": "markdown",
   "metadata": {},
   "source": [
    "В признаке большое количество пропусков. Удалим его:"
   ]
  },
  {
   "cell_type": "code",
   "execution_count": 245,
   "metadata": {},
   "outputs": [],
   "source": [
    "df = df.drop('lotsize', axis=1)"
   ]
  },
  {
   "cell_type": "markdown",
   "metadata": {},
   "source": [
    "#### Признак Price/sqft"
   ]
  },
  {
   "cell_type": "markdown",
   "metadata": {},
   "source": [
    "Признак **Price/sqft** показывает отношение цены к площади и как следствие зависим от целевого признака. Во избежания утечки данных удалим его:"
   ]
  },
  {
   "cell_type": "code",
   "execution_count": 246,
   "metadata": {},
   "outputs": [],
   "source": [
    "df= df.drop('Price/sqft', axis=1)"
   ]
  },
  {
   "cell_type": "markdown",
   "metadata": {},
   "source": [
    "### MlsId и mls-id"
   ]
  },
  {
   "cell_type": "markdown",
   "metadata": {},
   "source": [
    "Параметры **MlsId** и **mls-id** -  идентификаторы система мультилистинга, содержат уникальный идентификационный номер объекта. Параметр не влияет на стоимость объекта, его следует удалить:"
   ]
  },
  {
   "cell_type": "code",
   "execution_count": 247,
   "metadata": {},
   "outputs": [],
   "source": [
    "df = df.drop(['MlsId', 'mls-id'], axis=1)"
   ]
  },
  {
   "cell_type": "markdown",
   "metadata": {},
   "source": [
    "### Признак target"
   ]
  },
  {
   "cell_type": "markdown",
   "metadata": {},
   "source": [
    "Признак **target** указывает стоимость объекта и является нашим целевый признаков. Посмотрим на него:"
   ]
  },
  {
   "cell_type": "code",
   "execution_count": 248,
   "metadata": {},
   "outputs": [
    {
     "name": "stdout",
     "output_type": "stream",
     "text": [
      "Количество пропущенных значений в признаке target: 2480\n",
      "Отношение пропущенных значений признака target к объему наблюдений: 0.66%\n",
      "Количество уникальных значений признака target: 43939\n",
      "Уникальные значения признака target: ['$1', '$1,000', '$1,000,000', '$1,000,000+', '$1,000,036', '$1,000,050', '$1,000,100', '$1,000,898', '$1,000/mo', '$1,001,713']\n"
     ]
    }
   ],
   "source": [
    "print(f\"Количество пропущенных значений в признаке target: {df['target'].isna().sum()}\\n\"\n",
    "    f\"Отношение пропущенных значений признака target к объему наблюдений: {(round(df['target'].isna().sum()/len(df)*100,2))}%\\n\"\n",
    "    f\"Количество уникальных значений признака target: {df['target'].nunique()}\\n\"\n",
    "    f\"Уникальные значения признака target: {list(df['target'].sort_values().unique()[:10])}\")"
   ]
  },
  {
   "cell_type": "markdown",
   "metadata": {},
   "source": [
    "Удалим пропуски:"
   ]
  },
  {
   "cell_type": "code",
   "execution_count": 249,
   "metadata": {},
   "outputs": [],
   "source": [
    "df = df.dropna(subset=['target'])"
   ]
  },
  {
   "cell_type": "markdown",
   "metadata": {},
   "source": [
    "В признаке присутствуют значения с приставков /mo указывающей на помесячную оплату. Наша задача построить модель предсказывающую стоимость недвижимости, данные по аренде будут давать искажения - их лучше удалить. Посмотрим на долю данных по аренде и соотнесем их с данными с приставков /mo:"
   ]
  },
  {
   "cell_type": "code",
   "execution_count": 250,
   "metadata": {},
   "outputs": [],
   "source": [
    "l = list(df['status'].unique())\n",
    "#l"
   ]
  },
  {
   "cell_type": "code",
   "execution_count": 251,
   "metadata": {},
   "outputs": [
    {
     "name": "stdout",
     "output_type": "stream",
     "text": [
      "Разница числа строк со статусом аренды и числа строк с указанием помесячной оплаты:14\n"
     ]
    }
   ],
   "source": [
    "rent_df = df[(df['status'] == 'for rent') | (df['status'] == 'apartment for rent') | (df['status'] == 'condo for rent')]\n",
    "matching_rows = df[df.target.str.contains('/mo',regex=True)]\n",
    "print(f\"Разница числа строк со статусом аренды и числа строк с указанием помесячной оплаты:{len(rent_df) - len(matching_rows)}\")"
   ]
  },
  {
   "cell_type": "markdown",
   "metadata": {},
   "source": [
    "Видим что если произвести удаление строк по окончанию /mo в **target**, то останется еще 14 строк связаных с арендой, удалим данные по аренде через признак **status**:"
   ]
  },
  {
   "cell_type": "code",
   "execution_count": 252,
   "metadata": {},
   "outputs": [],
   "source": [
    "df = df[(df['status'] != 'for rent') & (df['status'] != 'apartment for rent') & (df['status'] != 'condo for rent')]"
   ]
  },
  {
   "cell_type": "markdown",
   "metadata": {},
   "source": [
    "Оставим в признаке только числовые значения и переведем к целочисленному типу:"
   ]
  },
  {
   "cell_type": "code",
   "execution_count": 253,
   "metadata": {},
   "outputs": [],
   "source": [
    "df.loc[:,'target'] = df.loc[:,'target'].str.replace('[^0-9]','',regex=True)\n",
    "df.target = df.target.astype(int)"
   ]
  },
  {
   "cell_type": "markdown",
   "metadata": {},
   "source": [
    "Посмотрим на разброс значений в целевом признаке:"
   ]
  },
  {
   "cell_type": "code",
   "execution_count": 254,
   "metadata": {},
   "outputs": [
    {
     "data": {
      "text/html": [
       "<div>\n",
       "<style scoped>\n",
       "    .dataframe tbody tr th:only-of-type {\n",
       "        vertical-align: middle;\n",
       "    }\n",
       "\n",
       "    .dataframe tbody tr th {\n",
       "        vertical-align: top;\n",
       "    }\n",
       "\n",
       "    .dataframe thead th {\n",
       "        text-align: right;\n",
       "    }\n",
       "</style>\n",
       "<table border=\"1\" class=\"dataframe\">\n",
       "  <thead>\n",
       "    <tr style=\"text-align: right;\">\n",
       "      <th></th>\n",
       "      <th>status</th>\n",
       "      <th>propertyType</th>\n",
       "      <th>street</th>\n",
       "      <th>baths</th>\n",
       "      <th>fireplace</th>\n",
       "      <th>city</th>\n",
       "      <th>schools</th>\n",
       "      <th>sqft</th>\n",
       "      <th>zipcode</th>\n",
       "      <th>state</th>\n",
       "      <th>PrivatePool</th>\n",
       "      <th>target</th>\n",
       "      <th>Year built</th>\n",
       "      <th>Heating</th>\n",
       "      <th>Cooling</th>\n",
       "      <th>Parking</th>\n",
       "    </tr>\n",
       "  </thead>\n",
       "  <tbody>\n",
       "    <tr>\n",
       "      <th>132416</th>\n",
       "      <td>for sale</td>\n",
       "      <td>single_family_home</td>\n",
       "      <td>875 nimes rd</td>\n",
       "      <td>18.0</td>\n",
       "      <td>True</td>\n",
       "      <td>los angeles</td>\n",
       "      <td>[{'rating': ['10/10', '7/10'], 'data': {'Dista...</td>\n",
       "      <td>0</td>\n",
       "      <td>90077</td>\n",
       "      <td>CA</td>\n",
       "      <td>True</td>\n",
       "      <td>195000000</td>\n",
       "      <td>1935</td>\n",
       "      <td>True</td>\n",
       "      <td>True</td>\n",
       "      <td>True</td>\n",
       "    </tr>\n",
       "  </tbody>\n",
       "</table>\n",
       "</div>"
      ],
      "text/plain": [
       "          status        propertyType        street  baths  fireplace  \\\n",
       "132416  for sale  single_family_home  875 nimes rd   18.0       True   \n",
       "\n",
       "               city                                            schools  sqft  \\\n",
       "132416  los angeles  [{'rating': ['10/10', '7/10'], 'data': {'Dista...     0   \n",
       "\n",
       "       zipcode state  PrivatePool     target Year built  Heating  Cooling  \\\n",
       "132416   90077    CA         True  195000000       1935     True     True   \n",
       "\n",
       "        Parking  \n",
       "132416     True  "
      ]
     },
     "metadata": {},
     "output_type": "display_data"
    },
    {
     "data": {
      "text/html": [
       "<div>\n",
       "<style scoped>\n",
       "    .dataframe tbody tr th:only-of-type {\n",
       "        vertical-align: middle;\n",
       "    }\n",
       "\n",
       "    .dataframe tbody tr th {\n",
       "        vertical-align: top;\n",
       "    }\n",
       "\n",
       "    .dataframe thead th {\n",
       "        text-align: right;\n",
       "    }\n",
       "</style>\n",
       "<table border=\"1\" class=\"dataframe\">\n",
       "  <thead>\n",
       "    <tr style=\"text-align: right;\">\n",
       "      <th></th>\n",
       "      <th>status</th>\n",
       "      <th>propertyType</th>\n",
       "      <th>street</th>\n",
       "      <th>baths</th>\n",
       "      <th>fireplace</th>\n",
       "      <th>city</th>\n",
       "      <th>schools</th>\n",
       "      <th>sqft</th>\n",
       "      <th>zipcode</th>\n",
       "      <th>state</th>\n",
       "      <th>PrivatePool</th>\n",
       "      <th>target</th>\n",
       "      <th>Year built</th>\n",
       "      <th>Heating</th>\n",
       "      <th>Cooling</th>\n",
       "      <th>Parking</th>\n",
       "    </tr>\n",
       "  </thead>\n",
       "  <tbody>\n",
       "    <tr>\n",
       "      <th>15533</th>\n",
       "      <td>auction</td>\n",
       "      <td>single_family_home</td>\n",
       "      <td>1230 old dickerson rd</td>\n",
       "      <td>2.0</td>\n",
       "      <td>False</td>\n",
       "      <td>goodlettsville</td>\n",
       "      <td>[{'rating': ['3', '2', '3', '3', '2', '1', 'NR...</td>\n",
       "      <td>1596</td>\n",
       "      <td>37072</td>\n",
       "      <td>TN</td>\n",
       "      <td>False</td>\n",
       "      <td>1</td>\n",
       "      <td>1940</td>\n",
       "      <td>True</td>\n",
       "      <td>False</td>\n",
       "      <td>True</td>\n",
       "    </tr>\n",
       "    <tr>\n",
       "      <th>25334</th>\n",
       "      <td>No info</td>\n",
       "      <td>single_family_home</td>\n",
       "      <td>3205 n high school rd</td>\n",
       "      <td>1.0</td>\n",
       "      <td>True</td>\n",
       "      <td>indianapolis</td>\n",
       "      <td>[{'rating': ['2/10', 'NA', '1/10'], 'data': {'...</td>\n",
       "      <td>1586</td>\n",
       "      <td>46224</td>\n",
       "      <td>IN</td>\n",
       "      <td>False</td>\n",
       "      <td>1</td>\n",
       "      <td>1957</td>\n",
       "      <td>True</td>\n",
       "      <td>True</td>\n",
       "      <td>True</td>\n",
       "    </tr>\n",
       "    <tr>\n",
       "      <th>84946</th>\n",
       "      <td>foreclosure</td>\n",
       "      <td>land</td>\n",
       "      <td>7804 hamilton ave</td>\n",
       "      <td>0.0</td>\n",
       "      <td>True</td>\n",
       "      <td>cincinnati</td>\n",
       "      <td>[{'rating': ['2/10'], 'data': {'Distance': ['0...</td>\n",
       "      <td>2536</td>\n",
       "      <td>45231</td>\n",
       "      <td>OH</td>\n",
       "      <td>False</td>\n",
       "      <td>1</td>\n",
       "      <td>1865</td>\n",
       "      <td>False</td>\n",
       "      <td>True</td>\n",
       "      <td>True</td>\n",
       "    </tr>\n",
       "    <tr>\n",
       "      <th>148230</th>\n",
       "      <td>auction</td>\n",
       "      <td>land</td>\n",
       "      <td>cummings st</td>\n",
       "      <td>0.0</td>\n",
       "      <td>False</td>\n",
       "      <td>huntley</td>\n",
       "      <td>[{'rating': [], 'data': {'Distance': [], 'Grad...</td>\n",
       "      <td>0</td>\n",
       "      <td>60142</td>\n",
       "      <td>IL</td>\n",
       "      <td>False</td>\n",
       "      <td>1</td>\n",
       "      <td>no info</td>\n",
       "      <td>False</td>\n",
       "      <td>False</td>\n",
       "      <td>False</td>\n",
       "    </tr>\n",
       "    <tr>\n",
       "      <th>205341</th>\n",
       "      <td>auction</td>\n",
       "      <td>land</td>\n",
       "      <td>route 47 hwy</td>\n",
       "      <td>0.0</td>\n",
       "      <td>False</td>\n",
       "      <td>huntley</td>\n",
       "      <td>[{'rating': ['8', '9', '8', '7', '7', 'NR'], '...</td>\n",
       "      <td>0</td>\n",
       "      <td>60142</td>\n",
       "      <td>IL</td>\n",
       "      <td>False</td>\n",
       "      <td>1</td>\n",
       "      <td>no info</td>\n",
       "      <td>False</td>\n",
       "      <td>False</td>\n",
       "      <td>False</td>\n",
       "    </tr>\n",
       "  </tbody>\n",
       "</table>\n",
       "</div>"
      ],
      "text/plain": [
       "             status        propertyType                 street  baths  \\\n",
       "15533       auction  single_family_home  1230 old dickerson rd    2.0   \n",
       "25334       No info  single_family_home  3205 n high school rd    1.0   \n",
       "84946   foreclosure                land      7804 hamilton ave    0.0   \n",
       "148230      auction                land            cummings st    0.0   \n",
       "205341      auction                land           route 47 hwy    0.0   \n",
       "\n",
       "        fireplace            city  \\\n",
       "15533       False  goodlettsville   \n",
       "25334        True    indianapolis   \n",
       "84946        True      cincinnati   \n",
       "148230      False         huntley   \n",
       "205341      False         huntley   \n",
       "\n",
       "                                                  schools  sqft zipcode state  \\\n",
       "15533   [{'rating': ['3', '2', '3', '3', '2', '1', 'NR...  1596   37072    TN   \n",
       "25334   [{'rating': ['2/10', 'NA', '1/10'], 'data': {'...  1586   46224    IN   \n",
       "84946   [{'rating': ['2/10'], 'data': {'Distance': ['0...  2536   45231    OH   \n",
       "148230  [{'rating': [], 'data': {'Distance': [], 'Grad...     0   60142    IL   \n",
       "205341  [{'rating': ['8', '9', '8', '7', '7', 'NR'], '...     0   60142    IL   \n",
       "\n",
       "        PrivatePool  target Year built  Heating  Cooling  Parking  \n",
       "15533         False       1       1940     True    False     True  \n",
       "25334         False       1       1957     True     True     True  \n",
       "84946         False       1       1865    False     True     True  \n",
       "148230        False       1    no info    False    False    False  \n",
       "205341        False       1    no info    False    False    False  "
      ]
     },
     "metadata": {},
     "output_type": "display_data"
    }
   ],
   "source": [
    "display(df[df['target'] == df['target']. max ()].head())\n",
    "display(df[df['target'] == df['target']. min ()].head())\n"
   ]
  },
  {
   "cell_type": "markdown",
   "metadata": {},
   "source": [
    "Видим наличие выбросов. Примим за минимально допустимую стоимость 1000 т.к. у нас есть объекты с лешением права выкупа и акуционном, 1000 вполне может быть стартовой стоимостью. Удалим все значания ниже 1000:"
   ]
  },
  {
   "cell_type": "code",
   "execution_count": 255,
   "metadata": {},
   "outputs": [],
   "source": [
    "df = df.drop(df[df['target'] < 1000].index)"
   ]
  },
  {
   "cell_type": "code",
   "execution_count": 256,
   "metadata": {},
   "outputs": [
    {
     "name": "stdout",
     "output_type": "stream",
     "text": [
      "Количество пропущенных значений в признаке target: 0\n",
      "Отношение пропущенных значений признака target к объему наблюдений: 0.0%\n",
      "Количество уникальных значений признака target: 34162\n",
      "Уникальные значения признака target: [1000, 1100, 1200, 1299, 1300, 1325, 1350, 1425, 1450, 1500]\n"
     ]
    }
   ],
   "source": [
    "print(f\"Количество пропущенных значений в признаке target: {df['target'].isna().sum()}\\n\"\n",
    "    f\"Отношение пропущенных значений признака target к объему наблюдений: {(round(df['target'].isna().sum()/len(df)*100,2))}%\\n\"\n",
    "    f\"Количество уникальных значений признака target: {df['target'].nunique()}\\n\"\n",
    "    f\"Уникальные значения признака target: {list(df['target'].sort_values().unique()[:10])}\")"
   ]
  },
  {
   "cell_type": "markdown",
   "metadata": {},
   "source": [
    "### Признак schools"
   ]
  },
  {
   "cell_type": "markdown",
   "metadata": {},
   "source": [
    "Признак **schools** содержит информацию о школах в районе. Посмотрим на признак:"
   ]
  },
  {
   "cell_type": "code",
   "execution_count": 257,
   "metadata": {},
   "outputs": [
    {
     "name": "stdout",
     "output_type": "stream",
     "text": [
      "Количество пропущенных значений в признаке schools: 0\n",
      "Отношение пропущенных значений признака schools к объему наблюдений: 0.0%\n",
      "Количество уникальных значений признака schools: 294995\n",
      "Уникальные значения признака schools: [\"[{'rating': [''], 'data': {'Distance': [], 'Grades': []}, 'name': []}]\", \"[{'rating': ['1', '1', '1', '1', '2', '5', 'NR', 'NR'], 'data': {'Distance': ['0.8 mi', '0.5 mi', '0.8 mi', '1.1 mi', '0.5 mi', '0.5 mi', '0.3 mi', '0.3 mi'], 'Grades': ['K–5', '6–8', '9–12', 'K–5', 'K–12', '9–12', 'K–8', 'K–8']}, 'name': ['Forty-Second Street Elementary School', 'Audubon Middle School', 'Crenshaw Science, Technology, Engineering, Math And Medicine Magnet School', 'Fifty-Fourth Street Elementary School', 'Marlton School', 'Crenshaw Arts-Technology Charter High School', 'Career Elementary Preparatory Academy Private School', 'Fortitude CCS Private School']}]\", \"[{'rating': ['1', '1', '1', '1', '2', 'NR', 'NR', 'NR'], 'data': {'Distance': ['0.1 mi', '0.9 mi', '0.5 mi', '0.4 mi', '0.5 mi', '0.5 mi', '0.5 mi', '0.5 mi'], 'Grades': ['K–5', '6–8', '9–12', 'K–5', 'K–12', '9–12', 'K–6', 'K–8']}, 'name': ['Coliseum Street Elementary School', 'Audubon Middle School', 'Susan Miller Dorsey Senior High School', 'Hillcrest Drive Elementary School', 'Marlton School', 'View Park Continuation School', 'Kids Preparatory Academy, Inc. Private School', 'St. Bernadette Catholic Private School']}]\", \"[{'rating': ['1', '1', '1', '2', '1', '3', 'NR', 'NR'], 'data': {'Distance': ['0.3 mi', '0.1 mi', '2.6 mi', '0.7 mi', '1.4 mi', '1.6 mi', '0.7 mi', '0.9 mi'], 'Grades': ['PK–5', '6–8', '9–12', 'PK–5', '6–8', '6–12', 'PK–5', '9–12']}, 'name': ['Highland Hts Elementary School', 'Williams Middle School', 'Washington B T High School', 'Wesley Elementary School', 'High School Ahead Academy', 'Yes Prep - Northline School', 'Dominion Preparatory Private School & Child Development Center', 'St Pius X Private School']}]\", \"[{'rating': ['1', '1', '1', '2', '1', '3', 'NR', 'NR'], 'data': {'Distance': ['0.4 mi', '0.2 mi', '2.7 mi', '0.5 mi', '1.4 mi', '1.4 mi', '0.9 mi', '1.0 mi'], 'Grades': ['PK–5', '6–8', '9–12', 'PK–5', '6–8', '6–12', 'PK–5', '9–12']}, 'name': ['Highland Hts Elementary School', 'Williams Middle School', 'Washington B T High School', 'Wesley Elementary School', 'High School Ahead Academy', 'Yes Prep - Northline School', 'Dominion Preparatory Private School & Child Development Center', 'St Pius X Private School']}]\", \"[{'rating': ['1', '1', '1', '2', '3', '5', 'NR', 'NR'], 'data': {'Distance': ['0.6 mi', '0.3 mi', '0.7 mi', '0.7 mi', '0.7 mi', '0.3 mi', '0.3 mi', '0.5 mi'], 'Grades': ['K–5', '6–8', '9–12', 'K–12', '6–8', '9–12', 'K–8', 'K–6']}, 'name': ['Forty-Second Street Elementary School', 'Audubon Middle School', 'Crenshaw Science, Technology, Engineering, Math And Medicine Magnet School', 'Marlton School', 'ICEF View Park Preparatory Accelerated Charter Middle School', 'Crenshaw Arts-Technology Charter High School', 'Golden Day Private Schools', 'Kids Preparatory Academy, Inc. Private School']}]\", \"[{'rating': ['1', '1', '1', '2', '3', '8', 'NR', 'NR'], 'data': {'Distance': ['0.9 mi', '0.5 mi', '3.2 mi', '0.6 mi', '1.9 mi', '2.1 mi', '0.5 mi', '1.3 mi'], 'Grades': ['PK–5', '6–8', '9–12', 'PK–5', '6–12', 'K–12', 'K–3', 'PK–5']}, 'name': ['Highland Hts Elementary School', 'Williams Middle School', 'Washington B T High School', 'Wesley Elementary School', 'Yes Prep - Northline School', 'Texas Serenity Academy School', 'Rosas Private School/Traditional', 'Dominion Preparatory Private School & Child Development Center']}]\", \"[{'rating': ['1', '1', '1', '2', '3', 'NR', 'NR', 'NR'], 'data': {'Distance': ['0.4 mi', '0.8 mi', '0.9 mi', '0.1 mi', '1.2 mi', '0.8 mi', '0.1 mi', '0.2 mi'], 'Grades': ['K–5', '6–8', '9–12', 'K–12', '6–8', '9–12', 'K–8', 'K–6']}, 'name': ['Hillcrest Drive Elementary School', 'Audubon Middle School', 'Susan Miller Dorsey Senior High School', 'Marlton School', 'ICEF View Park Preparatory Accelerated Charter Middle School', 'View Park Continuation School', 'St. Bernadette Catholic Private School', 'Kids Preparatory Academy, Inc. Private School']}]\", \"[{'rating': ['1', '1', '1', '2', '5', '5', 'NR', 'NR'], 'data': {'Distance': ['0.4 mi', '0.6 mi', '0.8 mi', '0.5 mi', '0.8 mi', '0.7 mi', '0.4 mi', '0.5 mi'], 'Grades': ['K–5', '6–8', '9–12', 'K–12', 'K–8', '9–12', 'K–6', 'K–8']}, 'name': ['Coliseum Street Elementary School', 'Audubon Middle School', 'Susan Miller Dorsey Senior High School', 'Marlton School', 'Celerity Nascent Charter School', 'Crenshaw Arts-Technology Charter High School', 'Kids Preparatory Academy, Inc. Private School', 'St. Bernadette Catholic Private School']}]\", \"[{'rating': ['1', '1', '1', '2', '5', 'NR', 'NR', 'NR'], 'data': {'Distance': ['0.2 mi', '0.9 mi', '0.8 mi', '0.2 mi', '1.2 mi', '0.7 mi', '0.3 mi', '0.3 mi'], 'Grades': ['K–5', '6–8', '9–12', 'K–12', 'K–8', '9–12', 'K–8', 'K–6']}, 'name': ['Hillcrest Drive Elementary School', 'Audubon Middle School', 'Susan Miller Dorsey Senior High School', 'Marlton School', 'Celerity Nascent Charter School', 'View Park Continuation School', 'St. Bernadette Catholic Private School', 'Kids Preparatory Academy, Inc. Private School']}]\"]\n"
     ]
    }
   ],
   "source": [
    "print(f\"Количество пропущенных значений в признаке schools: {df['schools'].isna().sum()}\\n\"\n",
    "    f\"Отношение пропущенных значений признака schools к объему наблюдений: {(round(df['schools'].isna().sum()/len(df)*100,2))}%\\n\"\n",
    "    f\"Количество уникальных значений признака schools: {df['schools'].nunique()}\\n\"\n",
    "    f\"Уникальные значения признака schools: {list(df['schools'].sort_values().unique()[:10])}\")"
   ]
  },
  {
   "cell_type": "code",
   "execution_count": 258,
   "metadata": {},
   "outputs": [],
   "source": [
    "l = list(df['schools'].sort_values().unique())\n",
    "#l"
   ]
  },
  {
   "cell_type": "markdown",
   "metadata": {},
   "source": [
    "Признак содержит сведения о наименование и рейтинге школы, растоянии до школы, оценки. Интерес для нас представляют растояние до школы и ее рейтинг. Приведем рейтинг к среднему значению, сформируем два новых признака: **school_rating _mean** - средний рейтинг школы, **school_dist_min** - минимальное растояние до школы. После удалим признак **schools**:"
   ]
  },
  {
   "cell_type": "code",
   "execution_count": 259,
   "metadata": {},
   "outputs": [],
   "source": [
    "#Рассчитаем средний рейтинг\n",
    "def process_rating(rating):\n",
    "    rating = rating[0].replace('/10', '')\n",
    "    extracted_numbers = [float(num) for num in rating if num.isdigit()]\n",
    "    average_rating = np.average(extracted_numbers) if extracted_numbers else -1\n",
    "    return round(average_rating, 1)\n",
    "\n",
    "s_rating = (\n",
    "    df.schools.str.findall(r\"\\brating': ([\\s\\S]+?), 'data\\b\")\n",
    "    .apply(lambda x: process_rating(x))\n",
    ")\n",
    "\n",
    "#Создадим признак school_rating _mean в нашем наборе данных. Пропуски заполним -1 \n",
    "df['school_rating _mean'] = s_rating"
   ]
  },
  {
   "cell_type": "code",
   "execution_count": 260,
   "metadata": {},
   "outputs": [],
   "source": [
    "#Извлечение расстояний до школ из каждой строки\n",
    "s_distance = df.schools.str.findall(r\"\\bDistance': ([\\s\\S]+?), 'Grades\\b\") \n",
    "#Получение первого найденного значения списков, полученных в результате предыдущего шага\n",
    "s_distance = s_distance.apply(lambda x: x[0]) \n",
    "#Удаление всех буквенных символов из расстояний\n",
    "s_distance = s_distance.str.replace('[a-zA-Z]','', regex=True) \n",
    "#Извлечение чисел, включая десятичные значения\n",
    "s_distance = s_distance.str.findall(r'\\b([0-9]+.[0-9]+)') \n",
    "#Преобразуем значения списка в тип float\n",
    "s_distance = s_distance.apply(lambda x: [float(i) for i in x]) \n",
    "# Нахождение минимального значения в каждом списке s_distance, и возвращение -1, если длина списка равна 0\n",
    "school_dist_min = s_distance.apply(lambda x: -1 if len(x)==0 else min(x)) \n",
    "\n",
    "\n",
    "#Создадим признак school_dist_min в нашем наборе данных. Пропуски заполним -1\n",
    "df['school_dist_min'] = school_dist_min"
   ]
  },
  {
   "cell_type": "markdown",
   "metadata": {},
   "source": [
    "Удалим признак **schools**:"
   ]
  },
  {
   "cell_type": "code",
   "execution_count": 261,
   "metadata": {},
   "outputs": [],
   "source": [
    "df = df.drop('schools', axis=1)"
   ]
  },
  {
   "cell_type": "markdown",
   "metadata": {},
   "source": [
    "### Признак zipcode"
   ]
  },
  {
   "cell_type": "markdown",
   "metadata": {},
   "source": [
    "Признак **zipcode** содержит информацию о почтовом индексе объекта. Посмотрим на него:"
   ]
  },
  {
   "cell_type": "code",
   "execution_count": 262,
   "metadata": {},
   "outputs": [
    {
     "name": "stdout",
     "output_type": "stream",
     "text": [
      "Количество пропущенных значений в признаке zipcode: 0\n",
      "Отношение пропущенных значений признака zipcode к объему наблюдений: 0.0%\n",
      "Количество уникальных значений признака zipcode: 4541\n",
      "Уникальные значения признака zipcode: ['--', '0', '00000', '02108', '02109', '02110', '02111', '02113', '02114', '02115']\n"
     ]
    }
   ],
   "source": [
    "print(f\"Количество пропущенных значений в признаке zipcode: {df['zipcode'].isna().sum()}\\n\"\n",
    "    f\"Отношение пропущенных значений признака zipcode к объему наблюдений: {(round(df['zipcode'].isna().sum()/len(df)*100,2))}%\\n\"\n",
    "    f\"Количество уникальных значений признака zipcode: {df['zipcode'].nunique()}\\n\"\n",
    "    f\"Уникальные значения признака zipcode: {list(df['zipcode'].sort_values().unique()[:10])}\")"
   ]
  },
  {
   "cell_type": "code",
   "execution_count": 263,
   "metadata": {},
   "outputs": [],
   "source": [
    "#l = list(df['zipcode'].sort_values().unique())\n",
    "#l"
   ]
  },
  {
   "cell_type": "markdown",
   "metadata": {},
   "source": [
    "В признаке присутствуют некоректрые значения такие как *0*, *--*, *00000*, а так же индексы указаные в 4 символах (так же есть немало случае когда индекс указан следующим образом: *07004-1106*, но это валидный вариант записи - используя его можно найти объект). Удалим их:"
   ]
  },
  {
   "cell_type": "code",
   "execution_count": 264,
   "metadata": {},
   "outputs": [],
   "source": [
    "#выберем все значения содержащие только 4 символа\n",
    "df['zipcode'] = df['zipcode'].str.replace(r\"(d+){4}\",'0', regex=True)\n",
    "#составим список значений на удаление\n",
    "in_to_drop = df[(df['zipcode']=='--') | (df['zipcode']=='0')| (df['zipcode']=='00000')].index\n",
    "\n",
    "df1 = df.drop(in_to_drop)\n"
   ]
  },
  {
   "cell_type": "code",
   "execution_count": 265,
   "metadata": {},
   "outputs": [
    {
     "data": {
      "text/plain": [
       "4541"
      ]
     },
     "execution_count": 265,
     "metadata": {},
     "output_type": "execute_result"
    }
   ],
   "source": [
    "df['zipcode'].nunique()"
   ]
  },
  {
   "cell_type": "markdown",
   "metadata": {},
   "source": [
    "С одной стороны *zipcode* состоит из цифр, с другой, мы не можем производит с ним математические операции, так что оставим его типа *object*"
   ]
  },
  {
   "cell_type": "markdown",
   "metadata": {},
   "source": [
    "## 4. ПРОВЕРЯЕМ И ДОЧИЩАЕМ ДАННЫЕ ПОСЛЕ ПРЕОБРАЗОВАНИЯ И ОЧИСТКИ ПРИЗНАКОВ"
   ]
  },
  {
   "cell_type": "markdown",
   "metadata": {},
   "source": [
    "Посмотрим на количество дубликатов в данных:"
   ]
  },
  {
   "cell_type": "code",
   "execution_count": 266,
   "metadata": {},
   "outputs": [
    {
     "data": {
      "text/plain": [
       "414"
      ]
     },
     "execution_count": 266,
     "metadata": {},
     "output_type": "execute_result"
    }
   ],
   "source": [
    "df.duplicated().sum() "
   ]
  },
  {
   "cell_type": "markdown",
   "metadata": {},
   "source": [
    "Удаляем дубликаты:"
   ]
  },
  {
   "cell_type": "code",
   "execution_count": 267,
   "metadata": {},
   "outputs": [],
   "source": [
    "df = df.drop_duplicates(ignore_index=True)"
   ]
  },
  {
   "cell_type": "markdown",
   "metadata": {},
   "source": [
    "Строки с отсутсвующией информацией по признакам **baths**, **sqft**, **Year built** представляются малоинформативными. Посмотрим на строки содержащие пропуски по трем признакам **baths**, **sqft**, **Year built**:"
   ]
  },
  {
   "cell_type": "code",
   "execution_count": 268,
   "metadata": {},
   "outputs": [
    {
     "name": "stdout",
     "output_type": "stream",
     "text": [
      "Количество строк с пропусками в признаках baths, sqft, Year built:41903\n",
      "Отношение строк с пропусками в признаках baths, sqft, Year built ко всему объему данных:11.21%\n"
     ]
    }
   ],
   "source": [
    "result = df[(df['baths'] == 0) & (df['sqft'] == 0) & (df['Year built'] == 'no info')]\n",
    "\n",
    "print(f\"Количество строк с пропусками в признаках baths, sqft, Year built:{len(result)}\")\n",
    "print(f\"Отношение строк с пропусками в признаках baths, sqft, Year built ко всему объему данных:{round((len(result) / len(df) * 100),2)}%\")"
   ]
  },
  {
   "cell_type": "markdown",
   "metadata": {},
   "source": [
    "Таких строк у нас всего 11.21%. Удалим их:"
   ]
  },
  {
   "cell_type": "code",
   "execution_count": 269,
   "metadata": {},
   "outputs": [],
   "source": [
    "df = df[~((df['baths'] == 0) & (df['sqft'] == 0) & (df['Year built'] == 'no date'))]\n"
   ]
  },
  {
   "cell_type": "markdown",
   "metadata": {},
   "source": [
    "Посмотрим на данные после всех приобразований:"
   ]
  },
  {
   "cell_type": "code",
   "execution_count": 270,
   "metadata": {},
   "outputs": [
    {
     "name": "stdout",
     "output_type": "stream",
     "text": [
      "<class 'pandas.core.frame.DataFrame'>\n",
      "Int64Index: 373752 entries, 0 to 373751\n",
      "Data columns (total 17 columns):\n",
      " #   Column               Non-Null Count   Dtype  \n",
      "---  ------               --------------   -----  \n",
      " 0   status               373752 non-null  object \n",
      " 1   propertyType         373752 non-null  object \n",
      " 2   street               373752 non-null  object \n",
      " 3   baths                373752 non-null  float64\n",
      " 4   fireplace            373752 non-null  bool   \n",
      " 5   city                 373752 non-null  object \n",
      " 6   sqft                 373752 non-null  int32  \n",
      " 7   zipcode              373752 non-null  object \n",
      " 8   state                373752 non-null  object \n",
      " 9   PrivatePool          373752 non-null  bool   \n",
      " 10  target               373752 non-null  int32  \n",
      " 11  Year built           373752 non-null  object \n",
      " 12  Heating              373752 non-null  bool   \n",
      " 13  Cooling              373752 non-null  bool   \n",
      " 14  Parking              373752 non-null  bool   \n",
      " 15  school_rating _mean  373752 non-null  float64\n",
      " 16  school_dist_min      373752 non-null  float64\n",
      "dtypes: bool(5), float64(3), int32(2), object(7)\n",
      "memory usage: 36.0+ MB\n"
     ]
    }
   ],
   "source": [
    "df.info()"
   ]
  },
  {
   "cell_type": "markdown",
   "metadata": {},
   "source": [
    "Данные очищены и приобразованны. Сохраним новый датафрейм без создания нового индекса:"
   ]
  },
  {
   "cell_type": "code",
   "execution_count": 271,
   "metadata": {},
   "outputs": [],
   "source": [
    "df.to_csv(\"data/cleaned_data.csv\", index=False)"
   ]
  }
 ],
 "metadata": {
  "kernelspec": {
   "display_name": "Python 3",
   "language": "python",
   "name": "python3"
  },
  "language_info": {
   "codemirror_mode": {
    "name": "ipython",
    "version": 3
   },
   "file_extension": ".py",
   "mimetype": "text/x-python",
   "name": "python",
   "nbconvert_exporter": "python",
   "pygments_lexer": "ipython3",
   "version": "3.10.2"
  },
  "orig_nbformat": 4
 },
 "nbformat": 4,
 "nbformat_minor": 2
}
